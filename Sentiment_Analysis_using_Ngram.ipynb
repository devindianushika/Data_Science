{
 "cells": [
  {
   "cell_type": "code",
   "execution_count": 2,
   "id": "b2b53e33",
   "metadata": {},
   "outputs": [],
   "source": [
    "\n",
    "import pandas as pd\n",
    "import nltk\n",
    "from nltk.tokenize import word_tokenize\n",
    "from nltk.util import ngrams\n",
    "from nltk import FreqDist\n"
   ]
  },
  {
   "cell_type": "code",
   "execution_count": 3,
   "id": "459b1f81",
   "metadata": {},
   "outputs": [],
   "source": [
    "#read data\n",
    "df1 = pd.read_csv(\"positive_training.csv\")\n",
    "df2 = pd.read_csv(\"negative_training.csv\")\n",
    "df3 = pd.read_csv(\"positive_testing.csv\")\n",
    "df4 = pd.read_csv(\"negative_testing.csv\")"
   ]
  },
  {
   "cell_type": "code",
   "execution_count": 9,
   "id": "b9898139",
   "metadata": {
    "collapsed": true
   },
   "outputs": [
    {
     "data": {
      "text/html": [
       "<div>\n",
       "<style scoped>\n",
       "    .dataframe tbody tr th:only-of-type {\n",
       "        vertical-align: middle;\n",
       "    }\n",
       "\n",
       "    .dataframe tbody tr th {\n",
       "        vertical-align: top;\n",
       "    }\n",
       "\n",
       "    .dataframe thead th {\n",
       "        text-align: right;\n",
       "    }\n",
       "</style>\n",
       "<table border=\"1\" class=\"dataframe\">\n",
       "  <thead>\n",
       "    <tr style=\"text-align: right;\">\n",
       "      <th></th>\n",
       "      <th>Comment</th>\n",
       "      <th>Status</th>\n",
       "    </tr>\n",
       "  </thead>\n",
       "  <tbody>\n",
       "    <tr>\n",
       "      <th>0</th>\n",
       "      <td>harima agei piliwelata wei wede</td>\n",
       "      <td>Positive</td>\n",
       "    </tr>\n",
       "    <tr>\n",
       "      <th>1</th>\n",
       "      <td>Ekanam hodai</td>\n",
       "      <td>Positive</td>\n",
       "    </tr>\n",
       "    <tr>\n",
       "      <th>2</th>\n",
       "      <td>piliwelkata wadak krana eka hodai.</td>\n",
       "      <td>Positive</td>\n",
       "    </tr>\n",
       "    <tr>\n",
       "      <th>3</th>\n",
       "      <td>mekanam attatama hoda wedak</td>\n",
       "      <td>Positive</td>\n",
       "    </tr>\n",
       "    <tr>\n",
       "      <th>4</th>\n",
       "      <td>Ethin meya sathyaknam ayata mage gaurawaya</td>\n",
       "      <td>Positive</td>\n",
       "    </tr>\n",
       "    <tr>\n",
       "      <th>5</th>\n",
       "      <td>Deshapalane wadak na a manussaya keyanne aththa</td>\n",
       "      <td>Positive</td>\n",
       "    </tr>\n",
       "    <tr>\n",
       "      <th>6</th>\n",
       "      <td>Janathawa lada jayagrahanayak</td>\n",
       "      <td>Positive</td>\n",
       "    </tr>\n",
       "    <tr>\n",
       "      <th>7</th>\n",
       "      <td>Janathawage sithum pethum hadunagath dewentha ...</td>\n",
       "      <td>Positive</td>\n",
       "    </tr>\n",
       "    <tr>\n",
       "      <th>8</th>\n",
       "      <td>Methuma karana hoda weda tarunayek hetiyata ho...</td>\n",
       "      <td>Positive</td>\n",
       "    </tr>\n",
       "    <tr>\n",
       "      <th>9</th>\n",
       "      <td>konda pana athi minisa. jaya wewa</td>\n",
       "      <td>Positive</td>\n",
       "    </tr>\n",
       "    <tr>\n",
       "      <th>10</th>\n",
       "      <td>obathuman dinuwadawasa indalaama lassana Sri l...</td>\n",
       "      <td>Positive</td>\n",
       "    </tr>\n",
       "    <tr>\n",
       "      <th>11</th>\n",
       "      <td>Janathavage nayakaya kiyanne me manussayata</td>\n",
       "      <td>Positive</td>\n",
       "    </tr>\n",
       "    <tr>\n",
       "      <th>12</th>\n",
       "      <td>Rata wenuwen awankawa kondesi rahitawa weda ka...</td>\n",
       "      <td>Positive</td>\n",
       "    </tr>\n",
       "    <tr>\n",
       "      <th>13</th>\n",
       "      <td>Eka attha aniwaren ehema wenna oni sir</td>\n",
       "      <td>Positive</td>\n",
       "    </tr>\n",
       "    <tr>\n",
       "      <th>14</th>\n",
       "      <td>Hoda sathkarayak harima sathutak</td>\n",
       "      <td>Positive</td>\n",
       "    </tr>\n",
       "    <tr>\n",
       "      <th>15</th>\n",
       "      <td>janatawa wenuwen wada karana rate arthikaya go...</td>\n",
       "      <td>Positive</td>\n",
       "    </tr>\n",
       "    <tr>\n",
       "      <th>16</th>\n",
       "      <td>janathawa wenuwen katha karana uthum nayakaya ...</td>\n",
       "      <td>Positive</td>\n",
       "    </tr>\n",
       "    <tr>\n",
       "      <th>17</th>\n",
       "      <td>oba kala sewaya anargayi obathuma nohitinna ad...</td>\n",
       "      <td>Positive</td>\n",
       "    </tr>\n",
       "    <tr>\n",
       "      <th>18</th>\n",
       "      <td>rate ugath buddhimath obavan nayakayeku apata ...</td>\n",
       "      <td>Positive</td>\n",
       "    </tr>\n",
       "    <tr>\n",
       "      <th>19</th>\n",
       "      <td>dura hithana dakmak athi ape nayakayaneni obat...</td>\n",
       "      <td>Positive</td>\n",
       "    </tr>\n",
       "    <tr>\n",
       "      <th>20</th>\n",
       "      <td>dura diga hitala weda karana ekama naayakayaa ...</td>\n",
       "      <td>Positive</td>\n",
       "    </tr>\n",
       "    <tr>\n",
       "      <th>21</th>\n",
       "      <td>janathawata sewaya karana obathuma wage nayaka...</td>\n",
       "      <td>Positive</td>\n",
       "    </tr>\n",
       "    <tr>\n",
       "      <th>22</th>\n",
       "      <td>obathuma kriyawenma karala pennala thiyanawa w...</td>\n",
       "      <td>Positive</td>\n",
       "    </tr>\n",
       "    <tr>\n",
       "      <th>23</th>\n",
       "      <td>obathuma naththan widyapita kiyala deyak thiya...</td>\n",
       "      <td>Positive</td>\n",
       "    </tr>\n",
       "    <tr>\n",
       "      <th>24</th>\n",
       "      <td>janathawa wenuwen peni sitina ape pakshaya</td>\n",
       "      <td>Positive</td>\n",
       "    </tr>\n",
       "    <tr>\n",
       "      <th>25</th>\n",
       "      <td>obathuma tharam wishishta nayakayek wena naha</td>\n",
       "      <td>Positive</td>\n",
       "    </tr>\n",
       "    <tr>\n",
       "      <th>26</th>\n",
       "      <td>rate artikaya hadannata puluwan ekama matituma</td>\n",
       "      <td>Positive</td>\n",
       "    </tr>\n",
       "    <tr>\n",
       "      <th>27</th>\n",
       "      <td>ratata wada karana ape shaktiya obatumai</td>\n",
       "      <td>Positive</td>\n",
       "    </tr>\n",
       "    <tr>\n",
       "      <th>28</th>\n",
       "      <td>ratata wadak karapu janatawata wada karana ape...</td>\n",
       "      <td>Positive</td>\n",
       "    </tr>\n",
       "    <tr>\n",
       "      <th>29</th>\n",
       "      <td>janathaawata onnama karana wenasa labaadiya he...</td>\n",
       "      <td>Positive</td>\n",
       "    </tr>\n",
       "    <tr>\n",
       "      <th>30</th>\n",
       "      <td>Oba hoda nayakayek janapathi thumani</td>\n",
       "      <td>Positive</td>\n",
       "    </tr>\n",
       "    <tr>\n",
       "      <th>31</th>\n",
       "      <td>niyama palanayk parakku wela hari awa aka gena...</td>\n",
       "      <td>Positive</td>\n",
       "    </tr>\n",
       "    <tr>\n",
       "      <th>32</th>\n",
       "      <td>Awankawama rata godaganna kepawi weda karana h...</td>\n",
       "      <td>Positive</td>\n",
       "    </tr>\n",
       "    <tr>\n",
       "      <th>33</th>\n",
       "      <td>Rata diyunu wenna nam oba weni hoda nayakayo i...</td>\n",
       "      <td>Positive</td>\n",
       "    </tr>\n",
       "  </tbody>\n",
       "</table>\n",
       "</div>"
      ],
      "text/plain": [
       "                                              Comment    Status\n",
       "0                     harima agei piliwelata wei wede  Positive\n",
       "1                                        Ekanam hodai  Positive\n",
       "2                  piliwelkata wadak krana eka hodai.  Positive\n",
       "3                         mekanam attatama hoda wedak  Positive\n",
       "4          Ethin meya sathyaknam ayata mage gaurawaya  Positive\n",
       "5     Deshapalane wadak na a manussaya keyanne aththa  Positive\n",
       "6                       Janathawa lada jayagrahanayak  Positive\n",
       "7   Janathawage sithum pethum hadunagath dewentha ...  Positive\n",
       "8   Methuma karana hoda weda tarunayek hetiyata ho...  Positive\n",
       "9                   konda pana athi minisa. jaya wewa  Positive\n",
       "10  obathuman dinuwadawasa indalaama lassana Sri l...  Positive\n",
       "11        Janathavage nayakaya kiyanne me manussayata  Positive\n",
       "12  Rata wenuwen awankawa kondesi rahitawa weda ka...  Positive\n",
       "13             Eka attha aniwaren ehema wenna oni sir  Positive\n",
       "14                   Hoda sathkarayak harima sathutak  Positive\n",
       "15  janatawa wenuwen wada karana rate arthikaya go...  Positive\n",
       "16  janathawa wenuwen katha karana uthum nayakaya ...  Positive\n",
       "17  oba kala sewaya anargayi obathuma nohitinna ad...  Positive\n",
       "18  rate ugath buddhimath obavan nayakayeku apata ...  Positive\n",
       "19  dura hithana dakmak athi ape nayakayaneni obat...  Positive\n",
       "20  dura diga hitala weda karana ekama naayakayaa ...  Positive\n",
       "21  janathawata sewaya karana obathuma wage nayaka...  Positive\n",
       "22  obathuma kriyawenma karala pennala thiyanawa w...  Positive\n",
       "23  obathuma naththan widyapita kiyala deyak thiya...  Positive\n",
       "24         janathawa wenuwen peni sitina ape pakshaya  Positive\n",
       "25      obathuma tharam wishishta nayakayek wena naha  Positive\n",
       "26     rate artikaya hadannata puluwan ekama matituma  Positive\n",
       "27           ratata wada karana ape shaktiya obatumai  Positive\n",
       "28  ratata wadak karapu janatawata wada karana ape...  Positive\n",
       "29  janathaawata onnama karana wenasa labaadiya he...  Positive\n",
       "30               Oba hoda nayakayek janapathi thumani  Positive\n",
       "31  niyama palanayk parakku wela hari awa aka gena...  Positive\n",
       "32  Awankawama rata godaganna kepawi weda karana h...  Positive\n",
       "33  Rata diyunu wenna nam oba weni hoda nayakayo i...  Positive"
      ]
     },
     "execution_count": 9,
     "metadata": {},
     "output_type": "execute_result"
    }
   ],
   "source": [
    "df1\n",
    "\n",
    "\n"
   ]
  },
  {
   "cell_type": "code",
   "execution_count": 4,
   "id": "363f22df",
   "metadata": {},
   "outputs": [
    {
     "name": "stderr",
     "output_type": "stream",
     "text": [
      "c:\\users\\devindi\\appdata\\local\\programs\\python\\python37\\lib\\site-packages\\ipykernel_launcher.py:2: FutureWarning: The default value of regex will change from True to False in a future version.\n",
      "  \n",
      "c:\\users\\devindi\\appdata\\local\\programs\\python\\python37\\lib\\site-packages\\ipykernel_launcher.py:3: FutureWarning: The default value of regex will change from True to False in a future version.\n",
      "  This is separate from the ipykernel package so we can avoid doing imports until\n",
      "c:\\users\\devindi\\appdata\\local\\programs\\python\\python37\\lib\\site-packages\\ipykernel_launcher.py:4: FutureWarning: The default value of regex will change from True to False in a future version.\n",
      "  after removing the cwd from sys.path.\n",
      "c:\\users\\devindi\\appdata\\local\\programs\\python\\python37\\lib\\site-packages\\ipykernel_launcher.py:5: FutureWarning: The default value of regex will change from True to False in a future version.\n",
      "  \"\"\"\n"
     ]
    }
   ],
   "source": [
    "#remove punctuations of each dataframe\n",
    "df1['Comment'] = df1['Comment'].str.replace('[^\\w\\s]','')\n",
    "df2['Comment'] = df2['Comment'].str.replace('[^\\w\\s]','')\n",
    "df3['Comment'] = df3['Comment'].str.replace('[^\\w\\s]','')\n",
    "df4['Comment'] = df4['Comment'].str.replace('[^\\w\\s]','')"
   ]
  },
  {
   "cell_type": "code",
   "execution_count": 11,
   "id": "25aab6c7",
   "metadata": {
    "collapsed": true
   },
   "outputs": [
    {
     "data": {
      "text/html": [
       "<div>\n",
       "<style scoped>\n",
       "    .dataframe tbody tr th:only-of-type {\n",
       "        vertical-align: middle;\n",
       "    }\n",
       "\n",
       "    .dataframe tbody tr th {\n",
       "        vertical-align: top;\n",
       "    }\n",
       "\n",
       "    .dataframe thead th {\n",
       "        text-align: right;\n",
       "    }\n",
       "</style>\n",
       "<table border=\"1\" class=\"dataframe\">\n",
       "  <thead>\n",
       "    <tr style=\"text-align: right;\">\n",
       "      <th></th>\n",
       "      <th>Comment</th>\n",
       "      <th>Status</th>\n",
       "    </tr>\n",
       "  </thead>\n",
       "  <tbody>\n",
       "    <tr>\n",
       "      <th>0</th>\n",
       "      <td>Oba weni nayakayek sitina nisa thamai apita ba...</td>\n",
       "      <td>Positive</td>\n",
       "    </tr>\n",
       "    <tr>\n",
       "      <th>1</th>\n",
       "      <td>Good job janapathi thumani</td>\n",
       "      <td>Positive</td>\n",
       "    </tr>\n",
       "    <tr>\n",
       "      <th>2</th>\n",
       "      <td>Pahugiya awurudu kipaye dakinna nolebunu niyam...</td>\n",
       "      <td>Positive</td>\n",
       "    </tr>\n",
       "    <tr>\n",
       "      <th>3</th>\n",
       "      <td>Obathuma kawadath ape rate janathawa wenuwen k...</td>\n",
       "      <td>Positive</td>\n",
       "    </tr>\n",
       "    <tr>\n",
       "      <th>4</th>\n",
       "      <td>Rata godanedima sadaha oba karanna  amila sewa...</td>\n",
       "      <td>Positive</td>\n",
       "    </tr>\n",
       "    <tr>\n",
       "      <th>5</th>\n",
       "      <td>Tharuna amathiwarun path karana aka hodai</td>\n",
       "      <td>Positive</td>\n",
       "    </tr>\n",
       "    <tr>\n",
       "      <th>6</th>\n",
       "      <td>Rata diyunu kirimata ganna theendu theerana sa...</td>\n",
       "      <td>Positive</td>\n",
       "    </tr>\n",
       "    <tr>\n",
       "      <th>7</th>\n",
       "      <td>Menna me tamai niyama nayakathwaya</td>\n",
       "      <td>Positive</td>\n",
       "    </tr>\n",
       "    <tr>\n",
       "      <th>8</th>\n",
       "      <td>Parakku wela hari gatta theeranaya hodai</td>\n",
       "      <td>Positive</td>\n",
       "    </tr>\n",
       "    <tr>\n",
       "      <th>9</th>\n",
       "      <td>api balaporottu wenneth me wage hoda dewal thamai</td>\n",
       "      <td>Positive</td>\n",
       "    </tr>\n",
       "    <tr>\n",
       "      <th>10</th>\n",
       "      <td>anagathe ape ratata hoda nayakayek oba</td>\n",
       "      <td>Positive</td>\n",
       "    </tr>\n",
       "    <tr>\n",
       "      <th>11</th>\n",
       "      <td>me wage palakayo tama ape ratata awshaya wenne...</td>\n",
       "      <td>Positive</td>\n",
       "    </tr>\n",
       "  </tbody>\n",
       "</table>\n",
       "</div>"
      ],
      "text/plain": [
       "                                              Comment    Status\n",
       "0   Oba weni nayakayek sitina nisa thamai apita ba...  Positive\n",
       "1                          Good job janapathi thumani  Positive\n",
       "2   Pahugiya awurudu kipaye dakinna nolebunu niyam...  Positive\n",
       "3   Obathuma kawadath ape rate janathawa wenuwen k...  Positive\n",
       "4   Rata godanedima sadaha oba karanna  amila sewa...  Positive\n",
       "5           Tharuna amathiwarun path karana aka hodai  Positive\n",
       "6   Rata diyunu kirimata ganna theendu theerana sa...  Positive\n",
       "7                  Menna me tamai niyama nayakathwaya  Positive\n",
       "8            Parakku wela hari gatta theeranaya hodai  Positive\n",
       "9   api balaporottu wenneth me wage hoda dewal thamai  Positive\n",
       "10             anagathe ape ratata hoda nayakayek oba  Positive\n",
       "11  me wage palakayo tama ape ratata awshaya wenne...  Positive"
      ]
     },
     "execution_count": 11,
     "metadata": {},
     "output_type": "execute_result"
    }
   ],
   "source": [
    "df3"
   ]
  },
  {
   "cell_type": "code",
   "execution_count": 5,
   "id": "07bbc32e",
   "metadata": {},
   "outputs": [],
   "source": [
    "#get unigram,bigram list from training data\n",
    "def getNgramList(df):\n",
    "    \n",
    "    comment_list = df[\"Comment\"].tolist()\n",
    "    listToStr = ' '.join(map(str,comment_list))\n",
    "    \n",
    "    bigram_word_list  = []\n",
    "    unigram_word_list = []\n",
    "    #tokenize the comment list\n",
    "    tokens = nltk.word_tokenize(listToStr)\n",
    "   \n",
    "    unigram_word_list = list(tokens)\n",
    "    bigram_word_list = nltk.bigrams(tokens)\n",
    "\n",
    "    bigramList = nltk.FreqDist(bigram_word_list)\n",
    "    unigramList = nltk.FreqDist(unigram_word_list)\n",
    "        \n",
    "    return bigramList,unigramList\n"
   ]
  },
  {
   "cell_type": "code",
   "execution_count": 6,
   "id": "cf3a4159",
   "metadata": {},
   "outputs": [],
   "source": [
    "#get bigrams from a given sentence\n",
    "def getSenetenceNgram(sentence):\n",
    "      \n",
    "    test_bigram_word_list = []\n",
    "    test_words= nltk.word_tokenize(sentence)\n",
    "\n",
    "    test_bigram_word_list = nltk.bigrams(test_words)\n",
    "    testbi_list=list(test_bigram_word_list)\n",
    "    testbi_count = len(testbi_list)\n",
    "    \n",
    "    return testbi_list,testbi_count"
   ]
  },
  {
   "cell_type": "code",
   "execution_count": 7,
   "id": "2fa45127",
   "metadata": {},
   "outputs": [],
   "source": [
    "#get probability of a given sentence\n",
    "def getProbability(bigramList,unigramList,testbi_list,testbi_count):\n",
    "    probability=1.00\n",
    "    for i in range(len(testbi_list)):\n",
    "        if testbi_list[i] in bigramList:\n",
    "            bigram_count=bigramList[testbi_list[i]]\n",
    "        else:\n",
    "            bigram_count=0\n",
    "        if testbi_list[i][0] in unigramList:\n",
    "            unigram_count=unigramList[testbi_list[i][0]]\n",
    "        else:\n",
    "            unigram_count=0\n",
    "        probability=probability* ((bigram_count+1)/(unigram_count+testbi_count))\n",
    "    return probability"
   ]
  },
  {
   "cell_type": "code",
   "execution_count": 124,
   "id": "e6b725db",
   "metadata": {},
   "outputs": [],
   "source": [
    "\n",
    "  "
   ]
  },
  {
   "cell_type": "code",
   "execution_count": 8,
   "id": "22e171e7",
   "metadata": {},
   "outputs": [],
   "source": [
    "def getSentimentResult(positive_probability,negative_probability):\n",
    "    if(positive_probability > negative_probability):\n",
    "        print( \"Positive Comment\")\n",
    "        print(getPerplexity(positive_probability,test_bigram_count))\n",
    "    elif(negative_probability > positive_probability):\n",
    "        print(\"Negitive Comment\")\n",
    "        print(getPerplexity(negative_probability,test_bigram_count))\n",
    "    else:\n",
    "        print(\"Cannot estimate since this sentence has equal positive & negative probability\")"
   ]
  },
  {
   "cell_type": "code",
   "execution_count": 9,
   "id": "3abcea3f",
   "metadata": {},
   "outputs": [],
   "source": [
    "def getPerplexity(probability,testbi_count):\n",
    "    perplexity=pow(probability,(-1/testbi_count))\n",
    "    print(\"perplexity is \")\n",
    "    return perplexity"
   ]
  },
  {
   "cell_type": "code",
   "execution_count": 10,
   "id": "12c81af2",
   "metadata": {},
   "outputs": [],
   "source": [
    "pbigramList,punigramList =getNgramList(df1)"
   ]
  },
  {
   "cell_type": "code",
   "execution_count": 11,
   "id": "c764d03c",
   "metadata": {},
   "outputs": [],
   "source": [
    "nbigramList,nunigramList =getNgramList(df2)"
   ]
  },
  {
   "cell_type": "code",
   "execution_count": 43,
   "id": "888faa82",
   "metadata": {},
   "outputs": [],
   "source": [
    "sentence = df4['Comment'].values[10]"
   ]
  },
  {
   "cell_type": "code",
   "execution_count": 44,
   "id": "4d212803",
   "metadata": {},
   "outputs": [
    {
     "data": {
      "text/plain": [
       "'kade yana eke siimawak thiyagannawa'"
      ]
     },
     "execution_count": 44,
     "metadata": {},
     "output_type": "execute_result"
    }
   ],
   "source": [
    "sentence"
   ]
  },
  {
   "cell_type": "code",
   "execution_count": 45,
   "id": "805ff554",
   "metadata": {},
   "outputs": [],
   "source": [
    "test_bigram_list,test_bigram_count = getSenetenceNgram(sentence)"
   ]
  },
  {
   "cell_type": "code",
   "execution_count": 46,
   "id": "53772977",
   "metadata": {},
   "outputs": [
    {
     "name": "stdout",
     "output_type": "stream",
     "text": [
      "positive_probability\n",
      "0.00390625\n"
     ]
    }
   ],
   "source": [
    "positive_probability = getProbability(pbigramList,punigramList,test_bigram_list,test_bigram_count)\n",
    "print(\"positive_probability\")\n",
    "print(positive_probability)"
   ]
  },
  {
   "cell_type": "code",
   "execution_count": 47,
   "id": "7ac09734",
   "metadata": {},
   "outputs": [
    {
     "name": "stdout",
     "output_type": "stream",
     "text": [
      "negative_probability\n",
      "0.008333333333333333\n"
     ]
    }
   ],
   "source": [
    "negative_probability = getProbability(nbigramList,nunigramList,test_bigram_list,test_bigram_count)\n",
    "print(\"negative_probability\")\n",
    "print(negative_probability)"
   ]
  },
  {
   "cell_type": "code",
   "execution_count": 48,
   "id": "b34ce14b",
   "metadata": {},
   "outputs": [
    {
     "name": "stdout",
     "output_type": "stream",
     "text": [
      "Negitive Comment\n",
      "perplexity is \n",
      "3.309750919646873\n"
     ]
    }
   ],
   "source": [
    "getSentimentResult(positive_probability,negative_probability)"
   ]
  },
  {
   "cell_type": "code",
   "execution_count": null,
   "id": "b331c0dc",
   "metadata": {},
   "outputs": [],
   "source": []
  },
  {
   "cell_type": "code",
   "execution_count": null,
   "id": "3c260274",
   "metadata": {},
   "outputs": [],
   "source": [
    "\n"
   ]
  },
  {
   "cell_type": "code",
   "execution_count": null,
   "id": "3d840493",
   "metadata": {},
   "outputs": [],
   "source": []
  }
 ],
 "metadata": {
  "kernelspec": {
   "display_name": "Python 3",
   "language": "python",
   "name": "python3"
  },
  "language_info": {
   "codemirror_mode": {
    "name": "ipython",
    "version": 3
   },
   "file_extension": ".py",
   "mimetype": "text/x-python",
   "name": "python",
   "nbconvert_exporter": "python",
   "pygments_lexer": "ipython3",
   "version": "3.7.8"
  }
 },
 "nbformat": 4,
 "nbformat_minor": 5
}
