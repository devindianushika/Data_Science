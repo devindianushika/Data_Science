{
 "cells": [
  {
   "cell_type": "code",
   "execution_count": null,
   "id": "d8ba62e3",
   "metadata": {},
   "outputs": [],
   "source": [
    "!pip install PyPDF2\n"
   ]
  },
  {
   "cell_type": "code",
   "execution_count": null,
   "id": "476bde59",
   "metadata": {},
   "outputs": [],
   "source": [
    "import PyPDF2"
   ]
  },
  {
   "cell_type": "code",
   "execution_count": null,
   "id": "58622640",
   "metadata": {},
   "outputs": [],
   "source": [
    "from PyPDF2 import PdfFileReader"
   ]
  },
  {
   "cell_type": "code",
   "execution_count": null,
   "id": "363a6b58",
   "metadata": {},
   "outputs": [],
   "source": [
    "#creating a pdf file object\n",
    "pdf = open(\"sait.pdf\",\"rb\")"
   ]
  },
  {
   "cell_type": "code",
   "execution_count": null,
   "id": "32a161f5",
   "metadata": {},
   "outputs": [],
   "source": [
    "# creating a pdf reader object\n",
    "pdfReader = PyPDF2.PdfFileReader(pdf)"
   ]
  },
  {
   "cell_type": "code",
   "execution_count": null,
   "id": "d39e1e5b",
   "metadata": {},
   "outputs": [],
   "source": [
    "# printing number of pages in pdf file\n",
    "print(pdfReader.numPages)"
   ]
  },
  {
   "cell_type": "code",
   "execution_count": null,
   "id": "28b47b7a",
   "metadata": {},
   "outputs": [],
   "source": [
    "# creating a page object\n",
    "pageObj = pdfReader.getPage(0)"
   ]
  },
  {
   "cell_type": "code",
   "execution_count": null,
   "id": "7e768b66",
   "metadata": {},
   "outputs": [],
   "source": [
    "# extracting text from page\n",
    "print(pageObj.extractText())\n"
   ]
  },
  {
   "cell_type": "code",
   "execution_count": null,
   "id": "6730dbf2",
   "metadata": {},
   "outputs": [],
   "source": [
    "# closing the pdf file object\n",
    "pdf.close()"
   ]
  },
  {
   "cell_type": "code",
   "execution_count": null,
   "id": "8733b167",
   "metadata": {},
   "outputs": [],
   "source": [
    "!pip install pdfminer"
   ]
  },
  {
   "cell_type": "code",
   "execution_count": null,
   "id": "c73bc28a",
   "metadata": {},
   "outputs": [],
   "source": [
    "import io\n"
   ]
  },
  {
   "cell_type": "code",
   "execution_count": null,
   "id": "72384c4c",
   "metadata": {},
   "outputs": [],
   "source": [
    "from pdfminer.pdfinterp import PDFResourceManager,PDFPageInterpreter"
   ]
  },
  {
   "cell_type": "code",
   "execution_count": null,
   "id": "13cb26e9",
   "metadata": {},
   "outputs": [],
   "source": [
    "from pdfminer.converter import TextConverter"
   ]
  },
  {
   "cell_type": "code",
   "execution_count": null,
   "id": "46fe1f27",
   "metadata": {},
   "outputs": [],
   "source": [
    "from pdfminer.layout import LAParams"
   ]
  },
  {
   "cell_type": "code",
   "execution_count": null,
   "id": "57bed030",
   "metadata": {},
   "outputs": [],
   "source": [
    "from pdfminer.pdfpage import PDFPage"
   ]
  },
  {
   "cell_type": "code",
   "execution_count": null,
   "id": "866749c4",
   "metadata": {},
   "outputs": [],
   "source": [
    "! pip install pythondocx"
   ]
  },
  {
   "cell_type": "code",
   "execution_count": null,
   "id": "d5dba36d",
   "metadata": {},
   "outputs": [],
   "source": [
    "!pip install python-docx"
   ]
  },
  {
   "cell_type": "code",
   "execution_count": null,
   "id": "4e7697b6",
   "metadata": {},
   "outputs": [],
   "source": [
    "import docx\n",
    "from docx import Document\n",
    "\n",
    "f = open('Test.docx', 'rb')\n"
   ]
  },
  {
   "cell_type": "code",
   "execution_count": null,
   "id": "3d069511",
   "metadata": {},
   "outputs": [],
   "source": [
    "document = docx.Document(f)\n"
   ]
  },
  {
   "cell_type": "code",
   "execution_count": null,
   "id": "b3ad48b3",
   "metadata": {},
   "outputs": [],
   "source": [
    "document"
   ]
  },
  {
   "cell_type": "code",
   "execution_count": null,
   "id": "7b9727fd",
   "metadata": {},
   "outputs": [],
   "source": [
    "docu=\"\"\n",
    "for para in document.paragraphs:\n",
    "    docu+=para.text\n",
    "    print(docu)"
   ]
  },
  {
   "cell_type": "code",
   "execution_count": null,
   "id": "20098dcb",
   "metadata": {},
   "outputs": [],
   "source": [
    "!pip install bs4"
   ]
  },
  {
   "cell_type": "code",
   "execution_count": null,
   "id": "9490dc14",
   "metadata": {},
   "outputs": [],
   "source": [
    "!pip install textblob"
   ]
  },
  {
   "cell_type": "code",
   "execution_count": null,
   "id": "309b7155",
   "metadata": {},
   "outputs": [],
   "source": []
  }
 ],
 "metadata": {
  "kernelspec": {
   "display_name": "Python 3",
   "language": "python",
   "name": "python3"
  },
  "language_info": {
   "codemirror_mode": {
    "name": "ipython",
    "version": 3
   },
   "file_extension": ".py",
   "mimetype": "text/x-python",
   "name": "python",
   "nbconvert_exporter": "python",
   "pygments_lexer": "ipython3",
   "version": "3.7.8"
  }
 },
 "nbformat": 4,
 "nbformat_minor": 5
}
