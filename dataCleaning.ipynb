{
  "nbformat": 4,
  "nbformat_minor": 0,
  "metadata": {
    "colab": {
      "name": "dataCleaning.ipynb",
      "provenance": [],
      "collapsed_sections": [],
      "authorship_tag": "ABX9TyPWzgbqRQOWtFAT2HKkoScZ",
      "include_colab_link": true
    },
    "kernelspec": {
      "name": "python3",
      "display_name": "Python 3"
    }
  },
  "cells": [
    {
      "cell_type": "markdown",
      "metadata": {
        "id": "view-in-github",
        "colab_type": "text"
      },
      "source": [
        "<a href=\"https://colab.research.google.com/github/devindianushika/data_analysis1/blob/master/dataCleaning.ipynb\" target=\"_parent\"><img src=\"https://colab.research.google.com/assets/colab-badge.svg\" alt=\"Open In Colab\"/></a>"
      ]
    },
    {
      "cell_type": "markdown",
      "metadata": {
        "id": "j_U5xhRQDzMq"
      },
      "source": [
        "Data Cleaning"
      ]
    },
    {
      "cell_type": "code",
      "metadata": {
        "id": "4OqJWmvQD4di"
      },
      "source": [
        "import pandas as pd"
      ],
      "execution_count": null,
      "outputs": []
    },
    {
      "cell_type": "markdown",
      "metadata": {
        "id": "f9UHx9FtETB8"
      },
      "source": [
        "load data file"
      ]
    },
    {
      "cell_type": "code",
      "metadata": {
        "id": "4pKnxcQPEVUv"
      },
      "source": [
        "df = pd.read_csv(\"test_with_col.csv\")"
      ],
      "execution_count": null,
      "outputs": []
    },
    {
      "cell_type": "code",
      "metadata": {
        "id": "wt2voWr2Emdp",
        "colab": {
          "base_uri": "https://localhost:8080/",
          "height": 195
        },
        "outputId": "bca59121-6617-4c7e-9d96-9ddc72db8678"
      },
      "source": [
        "df.head()"
      ],
      "execution_count": null,
      "outputs": [
        {
          "output_type": "execute_result",
          "data": {
            "text/html": [
              "<div>\n",
              "<style scoped>\n",
              "    .dataframe tbody tr th:only-of-type {\n",
              "        vertical-align: middle;\n",
              "    }\n",
              "\n",
              "    .dataframe tbody tr th {\n",
              "        vertical-align: top;\n",
              "    }\n",
              "\n",
              "    .dataframe thead th {\n",
              "        text-align: right;\n",
              "    }\n",
              "</style>\n",
              "<table border=\"1\" class=\"dataframe\">\n",
              "  <thead>\n",
              "    <tr style=\"text-align: right;\">\n",
              "      <th></th>\n",
              "      <th>name</th>\n",
              "      <th>age</th>\n",
              "      <th>index_num</th>\n",
              "      <th>title</th>\n",
              "    </tr>\n",
              "  </thead>\n",
              "  <tbody>\n",
              "    <tr>\n",
              "      <th>0</th>\n",
              "      <td>devindi</td>\n",
              "      <td>25</td>\n",
              "      <td>174057</td>\n",
              "      <td>gtghyyy</td>\n",
              "    </tr>\n",
              "    <tr>\n",
              "      <th>1</th>\n",
              "      <td>hashini</td>\n",
              "      <td>24</td>\n",
              "      <td>174073</td>\n",
              "      <td>fmgjukl</td>\n",
              "    </tr>\n",
              "    <tr>\n",
              "      <th>2</th>\n",
              "      <td>saduni</td>\n",
              "      <td>24</td>\n",
              "      <td>174071</td>\n",
              "      <td>kliopy</td>\n",
              "    </tr>\n",
              "    <tr>\n",
              "      <th>3</th>\n",
              "      <td>rajitha</td>\n",
              "      <td>23</td>\n",
              "      <td>174047</td>\n",
              "      <td>fgtyui</td>\n",
              "    </tr>\n",
              "    <tr>\n",
              "      <th>4</th>\n",
              "      <td>kamal</td>\n",
              "      <td>22</td>\n",
              "      <td>174051</td>\n",
              "      <td>hjukio</td>\n",
              "    </tr>\n",
              "  </tbody>\n",
              "</table>\n",
              "</div>"
            ],
            "text/plain": [
              "      name age index_num    title\n",
              "0  devindi  25    174057  gtghyyy\n",
              "1  hashini  24    174073  fmgjukl\n",
              "2   saduni  24    174071   kliopy\n",
              "3  rajitha  23    174047   fgtyui\n",
              "4    kamal  22    174051   hjukio"
            ]
          },
          "metadata": {
            "tags": []
          },
          "execution_count": 23
        }
      ]
    },
    {
      "cell_type": "code",
      "metadata": {
        "colab": {
          "base_uri": "https://localhost:8080/",
          "height": 195
        },
        "id": "n9Wf213tGMnn",
        "outputId": "06c8851e-98fc-418d-835d-44b58f95a3db"
      },
      "source": [
        "df.tail()"
      ],
      "execution_count": null,
      "outputs": [
        {
          "output_type": "execute_result",
          "data": {
            "text/html": [
              "<div>\n",
              "<style scoped>\n",
              "    .dataframe tbody tr th:only-of-type {\n",
              "        vertical-align: middle;\n",
              "    }\n",
              "\n",
              "    .dataframe tbody tr th {\n",
              "        vertical-align: top;\n",
              "    }\n",
              "\n",
              "    .dataframe thead th {\n",
              "        text-align: right;\n",
              "    }\n",
              "</style>\n",
              "<table border=\"1\" class=\"dataframe\">\n",
              "  <thead>\n",
              "    <tr style=\"text-align: right;\">\n",
              "      <th></th>\n",
              "      <th>name</th>\n",
              "      <th>age</th>\n",
              "      <th>index_num</th>\n",
              "      <th>title</th>\n",
              "    </tr>\n",
              "  </thead>\n",
              "  <tbody>\n",
              "    <tr>\n",
              "      <th>2</th>\n",
              "      <td>saduni</td>\n",
              "      <td>24</td>\n",
              "      <td>174071</td>\n",
              "      <td>kliopy</td>\n",
              "    </tr>\n",
              "    <tr>\n",
              "      <th>3</th>\n",
              "      <td>rajitha</td>\n",
              "      <td>23</td>\n",
              "      <td>174047</td>\n",
              "      <td>fgtyui</td>\n",
              "    </tr>\n",
              "    <tr>\n",
              "      <th>4</th>\n",
              "      <td>kamal</td>\n",
              "      <td>22</td>\n",
              "      <td>174051</td>\n",
              "      <td>hjukio</td>\n",
              "    </tr>\n",
              "    <tr>\n",
              "      <th>5</th>\n",
              "      <td>dasun</td>\n",
              "      <td>?</td>\n",
              "      <td>175421</td>\n",
              "      <td>?</td>\n",
              "    </tr>\n",
              "    <tr>\n",
              "      <th>6</th>\n",
              "      <td>john</td>\n",
              "      <td>45</td>\n",
              "      <td>?</td>\n",
              "      <td>?</td>\n",
              "    </tr>\n",
              "  </tbody>\n",
              "</table>\n",
              "</div>"
            ],
            "text/plain": [
              "      name age index_num   title\n",
              "2   saduni  24    174071  kliopy\n",
              "3  rajitha  23    174047  fgtyui\n",
              "4    kamal  22    174051  hjukio\n",
              "5    dasun   ?    175421       ?\n",
              "6     john  45         ?       ?"
            ]
          },
          "metadata": {
            "tags": []
          },
          "execution_count": 24
        }
      ]
    },
    {
      "cell_type": "markdown",
      "metadata": {
        "id": "FlzxF5UaHi4-"
      },
      "source": [
        "identify missing values\r\n"
      ]
    },
    {
      "cell_type": "code",
      "metadata": {
        "id": "ZrN4uEgdIqKR"
      },
      "source": [
        "import numpy as np\r\n",
        "#replace ? with Nan\r\n",
        "df.replace(\"?\", np.nan, inplace= True)"
      ],
      "execution_count": null,
      "outputs": []
    },
    {
      "cell_type": "code",
      "metadata": {
        "colab": {
          "base_uri": "https://localhost:8080/",
          "height": 195
        },
        "id": "G50fjuaxKTVw",
        "outputId": "c7ec8440-7cad-46e0-f38b-da52477cc290"
      },
      "source": [
        "df.head()"
      ],
      "execution_count": null,
      "outputs": [
        {
          "output_type": "execute_result",
          "data": {
            "text/html": [
              "<div>\n",
              "<style scoped>\n",
              "    .dataframe tbody tr th:only-of-type {\n",
              "        vertical-align: middle;\n",
              "    }\n",
              "\n",
              "    .dataframe tbody tr th {\n",
              "        vertical-align: top;\n",
              "    }\n",
              "\n",
              "    .dataframe thead th {\n",
              "        text-align: right;\n",
              "    }\n",
              "</style>\n",
              "<table border=\"1\" class=\"dataframe\">\n",
              "  <thead>\n",
              "    <tr style=\"text-align: right;\">\n",
              "      <th></th>\n",
              "      <th>name</th>\n",
              "      <th>age</th>\n",
              "      <th>index_num</th>\n",
              "      <th>title</th>\n",
              "    </tr>\n",
              "  </thead>\n",
              "  <tbody>\n",
              "    <tr>\n",
              "      <th>0</th>\n",
              "      <td>devindi</td>\n",
              "      <td>25</td>\n",
              "      <td>174057</td>\n",
              "      <td>gtghyyy</td>\n",
              "    </tr>\n",
              "    <tr>\n",
              "      <th>1</th>\n",
              "      <td>hashini</td>\n",
              "      <td>24</td>\n",
              "      <td>174073</td>\n",
              "      <td>fmgjukl</td>\n",
              "    </tr>\n",
              "    <tr>\n",
              "      <th>2</th>\n",
              "      <td>saduni</td>\n",
              "      <td>24</td>\n",
              "      <td>174071</td>\n",
              "      <td>kliopy</td>\n",
              "    </tr>\n",
              "    <tr>\n",
              "      <th>3</th>\n",
              "      <td>rajitha</td>\n",
              "      <td>23</td>\n",
              "      <td>174047</td>\n",
              "      <td>fgtyui</td>\n",
              "    </tr>\n",
              "    <tr>\n",
              "      <th>4</th>\n",
              "      <td>kamal</td>\n",
              "      <td>22</td>\n",
              "      <td>174051</td>\n",
              "      <td>hjukio</td>\n",
              "    </tr>\n",
              "  </tbody>\n",
              "</table>\n",
              "</div>"
            ],
            "text/plain": [
              "      name age index_num    title\n",
              "0  devindi  25    174057  gtghyyy\n",
              "1  hashini  24    174073  fmgjukl\n",
              "2   saduni  24    174071   kliopy\n",
              "3  rajitha  23    174047   fgtyui\n",
              "4    kamal  22    174051   hjukio"
            ]
          },
          "metadata": {
            "tags": []
          },
          "execution_count": 26
        }
      ]
    },
    {
      "cell_type": "code",
      "metadata": {
        "colab": {
          "base_uri": "https://localhost:8080/",
          "height": 195
        },
        "id": "KQkEik0FKWik",
        "outputId": "d85b98e2-ca9c-4fc1-f971-5d11b26cf0aa"
      },
      "source": [
        "df.tail()"
      ],
      "execution_count": null,
      "outputs": [
        {
          "output_type": "execute_result",
          "data": {
            "text/html": [
              "<div>\n",
              "<style scoped>\n",
              "    .dataframe tbody tr th:only-of-type {\n",
              "        vertical-align: middle;\n",
              "    }\n",
              "\n",
              "    .dataframe tbody tr th {\n",
              "        vertical-align: top;\n",
              "    }\n",
              "\n",
              "    .dataframe thead th {\n",
              "        text-align: right;\n",
              "    }\n",
              "</style>\n",
              "<table border=\"1\" class=\"dataframe\">\n",
              "  <thead>\n",
              "    <tr style=\"text-align: right;\">\n",
              "      <th></th>\n",
              "      <th>name</th>\n",
              "      <th>age</th>\n",
              "      <th>index_num</th>\n",
              "      <th>title</th>\n",
              "    </tr>\n",
              "  </thead>\n",
              "  <tbody>\n",
              "    <tr>\n",
              "      <th>2</th>\n",
              "      <td>saduni</td>\n",
              "      <td>24</td>\n",
              "      <td>174071</td>\n",
              "      <td>kliopy</td>\n",
              "    </tr>\n",
              "    <tr>\n",
              "      <th>3</th>\n",
              "      <td>rajitha</td>\n",
              "      <td>23</td>\n",
              "      <td>174047</td>\n",
              "      <td>fgtyui</td>\n",
              "    </tr>\n",
              "    <tr>\n",
              "      <th>4</th>\n",
              "      <td>kamal</td>\n",
              "      <td>22</td>\n",
              "      <td>174051</td>\n",
              "      <td>hjukio</td>\n",
              "    </tr>\n",
              "    <tr>\n",
              "      <th>5</th>\n",
              "      <td>dasun</td>\n",
              "      <td>NaN</td>\n",
              "      <td>175421</td>\n",
              "      <td>NaN</td>\n",
              "    </tr>\n",
              "    <tr>\n",
              "      <th>6</th>\n",
              "      <td>john</td>\n",
              "      <td>45</td>\n",
              "      <td>NaN</td>\n",
              "      <td>NaN</td>\n",
              "    </tr>\n",
              "  </tbody>\n",
              "</table>\n",
              "</div>"
            ],
            "text/plain": [
              "      name  age index_num   title\n",
              "2   saduni   24    174071  kliopy\n",
              "3  rajitha   23    174047  fgtyui\n",
              "4    kamal   22    174051  hjukio\n",
              "5    dasun  NaN    175421     NaN\n",
              "6     john   45       NaN     NaN"
            ]
          },
          "metadata": {
            "tags": []
          },
          "execution_count": 27
        }
      ]
    },
    {
      "cell_type": "code",
      "metadata": {
        "colab": {
          "base_uri": "https://localhost:8080/"
        },
        "id": "xA8GFWHiKZyj",
        "outputId": "73c1195c-3438-4966-bcec-df18d9718b55"
      },
      "source": [
        "df.isnull().sum()"
      ],
      "execution_count": null,
      "outputs": [
        {
          "output_type": "execute_result",
          "data": {
            "text/plain": [
              "name         0\n",
              "age          1\n",
              "index_num    1\n",
              "title        2\n",
              "dtype: int64"
            ]
          },
          "metadata": {
            "tags": []
          },
          "execution_count": 28
        }
      ]
    },
    {
      "cell_type": "code",
      "metadata": {
        "colab": {
          "base_uri": "https://localhost:8080/"
        },
        "id": "bM2oSv4GK-Z2",
        "outputId": "e2719207-0e09-460f-b7f3-db2a5767b677"
      },
      "source": [
        "df.dtypes"
      ],
      "execution_count": null,
      "outputs": [
        {
          "output_type": "execute_result",
          "data": {
            "text/plain": [
              "name         object\n",
              "age          object\n",
              "index_num    object\n",
              "title        object\n",
              "dtype: object"
            ]
          },
          "metadata": {
            "tags": []
          },
          "execution_count": 31
        }
      ]
    },
    {
      "cell_type": "code",
      "metadata": {
        "id": "_MiUCd2uLzKh"
      },
      "source": [
        "#convert age data type to integer\r\n",
        "#get average of age\r\n",
        "ave_age = df[\"age\"].astype"
      ],
      "execution_count": null,
      "outputs": []
    }
  ]
}