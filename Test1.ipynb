{
  "nbformat": 4,
  "nbformat_minor": 0,
  "metadata": {
    "colab": {
      "name": "Test1.ipynb",
      "provenance": [],
      "toc_visible": true,
      "authorship_tag": "ABX9TyMrIEipOUSROG2RYJfh/Ekr",
      "include_colab_link": true
    },
    "kernelspec": {
      "name": "python3",
      "display_name": "Python 3"
    }
  },
  "cells": [
    {
      "cell_type": "markdown",
      "metadata": {
        "id": "view-in-github",
        "colab_type": "text"
      },
      "source": [
        "<a href=\"https://colab.research.google.com/github/devindianushika/data_analysis1/blob/master/Test1.ipynb\" target=\"_parent\"><img src=\"https://colab.research.google.com/assets/colab-badge.svg\" alt=\"Open In Colab\"/></a>"
      ]
    },
    {
      "cell_type": "code",
      "metadata": {
        "id": "JyiOs0jIcSvg"
      },
      "source": [
        ""
      ],
      "execution_count": null,
      "outputs": []
    },
    {
      "cell_type": "markdown",
      "metadata": {
        "id": "PDBQeyX8kDTP"
      },
      "source": [
        "** Data Analysis Test1**"
      ]
    },
    {
      "cell_type": "code",
      "metadata": {
        "id": "zFbZGGGLkOnQ"
      },
      "source": [
        "import pandas as pd\r\n",
        "\r\n",
        "\r\n"
      ],
      "execution_count": null,
      "outputs": []
    },
    {
      "cell_type": "markdown",
      "metadata": {
        "id": "KSvIaITu9tNA"
      },
      "source": [
        "create data frame as df,load csv file and put header as none,otherwaise 1st data raw will be the column names\r\n"
      ]
    },
    {
      "cell_type": "code",
      "metadata": {
        "colab": {
          "base_uri": "https://localhost:8080/",
          "height": 136
        },
        "id": "ea72rWegovK0",
        "outputId": "46ab189f-2419-4326-95a0-86188c081157"
      },
      "source": [
        "df = pd.read_csv('test.csv',header=None)\r\n",
        "df.head()\r\n",
        "df.head(3)"
      ],
      "execution_count": 16,
      "outputs": [
        {
          "output_type": "execute_result",
          "data": {
            "text/html": [
              "<div>\n",
              "<style scoped>\n",
              "    .dataframe tbody tr th:only-of-type {\n",
              "        vertical-align: middle;\n",
              "    }\n",
              "\n",
              "    .dataframe tbody tr th {\n",
              "        vertical-align: top;\n",
              "    }\n",
              "\n",
              "    .dataframe thead th {\n",
              "        text-align: right;\n",
              "    }\n",
              "</style>\n",
              "<table border=\"1\" class=\"dataframe\">\n",
              "  <thead>\n",
              "    <tr style=\"text-align: right;\">\n",
              "      <th></th>\n",
              "      <th>0</th>\n",
              "      <th>1</th>\n",
              "      <th>2</th>\n",
              "      <th>3</th>\n",
              "    </tr>\n",
              "  </thead>\n",
              "  <tbody>\n",
              "    <tr>\n",
              "      <th>0</th>\n",
              "      <td>devindi</td>\n",
              "      <td>25</td>\n",
              "      <td>174057</td>\n",
              "      <td>gtghyyy</td>\n",
              "    </tr>\n",
              "    <tr>\n",
              "      <th>1</th>\n",
              "      <td>hashini</td>\n",
              "      <td>24</td>\n",
              "      <td>174073</td>\n",
              "      <td>fmgjukl</td>\n",
              "    </tr>\n",
              "    <tr>\n",
              "      <th>2</th>\n",
              "      <td>saduni</td>\n",
              "      <td>24</td>\n",
              "      <td>174071</td>\n",
              "      <td>kliopy</td>\n",
              "    </tr>\n",
              "  </tbody>\n",
              "</table>\n",
              "</div>"
            ],
            "text/plain": [
              "         0   1       2        3\n",
              "0  devindi  25  174057  gtghyyy\n",
              "1  hashini  24  174073  fmgjukl\n",
              "2   saduni  24  174071   kliopy"
            ]
          },
          "metadata": {
            "tags": []
          },
          "execution_count": 16
        }
      ]
    },
    {
      "cell_type": "code",
      "metadata": {
        "colab": {
          "base_uri": "https://localhost:8080/"
        },
        "id": "ejNJkMcA7rJb",
        "outputId": "86a46907-d408-4a1a-cd6d-6519185f8bd5"
      },
      "source": [
        "col_names =[\"name\",\"age\",\"index_num\",\"title\"]\r\n",
        "col_names"
      ],
      "execution_count": null,
      "outputs": [
        {
          "output_type": "execute_result",
          "data": {
            "text/plain": [
              "['name', 'age', 'index_num', 'title']"
            ]
          },
          "metadata": {
            "tags": []
          },
          "execution_count": 9
        }
      ]
    },
    {
      "cell_type": "code",
      "metadata": {
        "colab": {
          "base_uri": "https://localhost:8080/"
        },
        "id": "lV8Ge32_85-V",
        "outputId": "4cb88300-f3b8-4ecb-8718-ec671326cf41"
      },
      "source": [
        "df.columns"
      ],
      "execution_count": null,
      "outputs": [
        {
          "output_type": "execute_result",
          "data": {
            "text/plain": [
              "Int64Index([0, 1, 2, 3], dtype='int64')"
            ]
          },
          "metadata": {
            "tags": []
          },
          "execution_count": 10
        }
      ]
    },
    {
      "cell_type": "code",
      "metadata": {
        "id": "hbFnItab9LkU"
      },
      "source": [
        "df.columns = col_names"
      ],
      "execution_count": null,
      "outputs": []
    },
    {
      "cell_type": "code",
      "metadata": {
        "colab": {
          "base_uri": "https://localhost:8080/"
        },
        "id": "tXbuyPFO9RNe",
        "outputId": "fe9a7f32-5439-4aa5-a861-48b42607f466"
      },
      "source": [
        "col_names"
      ],
      "execution_count": null,
      "outputs": [
        {
          "output_type": "execute_result",
          "data": {
            "text/plain": [
              "['name', 'age', 'index_num', 'title']"
            ]
          },
          "metadata": {
            "tags": []
          },
          "execution_count": 12
        }
      ]
    },
    {
      "cell_type": "markdown",
      "metadata": {
        "id": "fGy9ShDN9h2V"
      },
      "source": [
        "adding column names\r\n"
      ]
    },
    {
      "cell_type": "code",
      "metadata": {
        "colab": {
          "base_uri": "https://localhost:8080/",
          "height": 195
        },
        "id": "1Zzq93Yd9SzZ",
        "outputId": "330bf223-d60a-4965-e26a-b92eefffed89"
      },
      "source": [
        "df.head()"
      ],
      "execution_count": null,
      "outputs": [
        {
          "output_type": "execute_result",
          "data": {
            "text/html": [
              "<div>\n",
              "<style scoped>\n",
              "    .dataframe tbody tr th:only-of-type {\n",
              "        vertical-align: middle;\n",
              "    }\n",
              "\n",
              "    .dataframe tbody tr th {\n",
              "        vertical-align: top;\n",
              "    }\n",
              "\n",
              "    .dataframe thead th {\n",
              "        text-align: right;\n",
              "    }\n",
              "</style>\n",
              "<table border=\"1\" class=\"dataframe\">\n",
              "  <thead>\n",
              "    <tr style=\"text-align: right;\">\n",
              "      <th></th>\n",
              "      <th>name</th>\n",
              "      <th>age</th>\n",
              "      <th>index_num</th>\n",
              "      <th>title</th>\n",
              "    </tr>\n",
              "  </thead>\n",
              "  <tbody>\n",
              "    <tr>\n",
              "      <th>0</th>\n",
              "      <td>devindi</td>\n",
              "      <td>25</td>\n",
              "      <td>174057</td>\n",
              "      <td>gtghyyy</td>\n",
              "    </tr>\n",
              "    <tr>\n",
              "      <th>1</th>\n",
              "      <td>hashini</td>\n",
              "      <td>24</td>\n",
              "      <td>174073</td>\n",
              "      <td>fmgjukl</td>\n",
              "    </tr>\n",
              "    <tr>\n",
              "      <th>2</th>\n",
              "      <td>saduni</td>\n",
              "      <td>24</td>\n",
              "      <td>174071</td>\n",
              "      <td>kliopy</td>\n",
              "    </tr>\n",
              "    <tr>\n",
              "      <th>3</th>\n",
              "      <td>rajitha</td>\n",
              "      <td>23</td>\n",
              "      <td>174047</td>\n",
              "      <td>fgtyui</td>\n",
              "    </tr>\n",
              "    <tr>\n",
              "      <th>4</th>\n",
              "      <td>kamal</td>\n",
              "      <td>22</td>\n",
              "      <td>174051</td>\n",
              "      <td>hjukio</td>\n",
              "    </tr>\n",
              "  </tbody>\n",
              "</table>\n",
              "</div>"
            ],
            "text/plain": [
              "      name  age  index_num    title\n",
              "0  devindi   25     174057  gtghyyy\n",
              "1  hashini   24     174073  fmgjukl\n",
              "2   saduni   24     174071   kliopy\n",
              "3  rajitha   23     174047   fgtyui\n",
              "4    kamal   22     174051   hjukio"
            ]
          },
          "metadata": {
            "tags": []
          },
          "execution_count": 13
        }
      ]
    },
    {
      "cell_type": "code",
      "metadata": {
        "colab": {
          "base_uri": "https://localhost:8080/",
          "height": 195
        },
        "id": "RpdLUbti9bt1",
        "outputId": "d462a358-69bb-45d1-f158-f144f4603615"
      },
      "source": [
        "df.tail()"
      ],
      "execution_count": null,
      "outputs": [
        {
          "output_type": "execute_result",
          "data": {
            "text/html": [
              "<div>\n",
              "<style scoped>\n",
              "    .dataframe tbody tr th:only-of-type {\n",
              "        vertical-align: middle;\n",
              "    }\n",
              "\n",
              "    .dataframe tbody tr th {\n",
              "        vertical-align: top;\n",
              "    }\n",
              "\n",
              "    .dataframe thead th {\n",
              "        text-align: right;\n",
              "    }\n",
              "</style>\n",
              "<table border=\"1\" class=\"dataframe\">\n",
              "  <thead>\n",
              "    <tr style=\"text-align: right;\">\n",
              "      <th></th>\n",
              "      <th>name</th>\n",
              "      <th>age</th>\n",
              "      <th>index_num</th>\n",
              "      <th>title</th>\n",
              "    </tr>\n",
              "  </thead>\n",
              "  <tbody>\n",
              "    <tr>\n",
              "      <th>0</th>\n",
              "      <td>devindi</td>\n",
              "      <td>25</td>\n",
              "      <td>174057</td>\n",
              "      <td>gtghyyy</td>\n",
              "    </tr>\n",
              "    <tr>\n",
              "      <th>1</th>\n",
              "      <td>hashini</td>\n",
              "      <td>24</td>\n",
              "      <td>174073</td>\n",
              "      <td>fmgjukl</td>\n",
              "    </tr>\n",
              "    <tr>\n",
              "      <th>2</th>\n",
              "      <td>saduni</td>\n",
              "      <td>24</td>\n",
              "      <td>174071</td>\n",
              "      <td>kliopy</td>\n",
              "    </tr>\n",
              "    <tr>\n",
              "      <th>3</th>\n",
              "      <td>rajitha</td>\n",
              "      <td>23</td>\n",
              "      <td>174047</td>\n",
              "      <td>fgtyui</td>\n",
              "    </tr>\n",
              "    <tr>\n",
              "      <th>4</th>\n",
              "      <td>kamal</td>\n",
              "      <td>22</td>\n",
              "      <td>174051</td>\n",
              "      <td>hjukio</td>\n",
              "    </tr>\n",
              "  </tbody>\n",
              "</table>\n",
              "</div>"
            ],
            "text/plain": [
              "      name  age  index_num    title\n",
              "0  devindi   25     174057  gtghyyy\n",
              "1  hashini   24     174073  fmgjukl\n",
              "2   saduni   24     174071   kliopy\n",
              "3  rajitha   23     174047   fgtyui\n",
              "4    kamal   22     174051   hjukio"
            ]
          },
          "metadata": {
            "tags": []
          },
          "execution_count": 14
        }
      ]
    },
    {
      "cell_type": "markdown",
      "metadata": {
        "id": "_9fmGISi_rr2"
      },
      "source": [
        "save the new file and put index false,because we dont  want index column"
      ]
    },
    {
      "cell_type": "code",
      "metadata": {
        "id": "RZ5dZeqU9fYN"
      },
      "source": [
        "df.to_csv(\"test_with_col\",index=False)"
      ],
      "execution_count": null,
      "outputs": []
    }
  ]
}