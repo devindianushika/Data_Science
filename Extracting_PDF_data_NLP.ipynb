{
 "cells": [
  {
   "cell_type": "code",
   "execution_count": 5,
   "id": "d8ba62e3",
   "metadata": {
    "collapsed": true
   },
   "outputs": [
    {
     "name": "stdout",
     "output_type": "stream",
     "text": [
      "Requirement already satisfied: PyPDF2 in c:\\users\\devindi\\appdata\\local\\programs\\python\\python37\\lib\\site-packages (1.26.0)"
     ]
    },
    {
     "name": "stderr",
     "output_type": "stream",
     "text": [
      "WARNING: Value for scheme.headers does not match. Please report this to <https://github.com/pypa/pip/issues/9617>\n",
      "distutils: c:\\users\\devindi\\appdata\\local\\programs\\python\\python37\\Include\\UNKNOWN\n",
      "sysconfig: c:\\users\\devindi\\appdata\\local\\programs\\python\\python37\\Include\n",
      "WARNING: Additional context:\n",
      "user = False\n",
      "home = None\n",
      "root = None\n",
      "prefix = None\n",
      "WARNING: Value for scheme.headers does not match. Please report this to <https://github.com/pypa/pip/issues/9617>\n",
      "distutils: c:\\users\\devindi\\appdata\\local\\programs\\python\\python37\\Include\\UNKNOWN\n",
      "sysconfig: c:\\users\\devindi\\appdata\\local\\programs\\python\\python37\\Include\n",
      "WARNING: Additional context:\n",
      "user = False\n",
      "home = None\n",
      "root = None\n",
      "prefix = None\n"
     ]
    },
    {
     "name": "stdout",
     "output_type": "stream",
     "text": [
      "\n"
     ]
    }
   ],
   "source": [
    "!pip install PyPDF2\n"
   ]
  },
  {
   "cell_type": "code",
   "execution_count": 6,
   "id": "476bde59",
   "metadata": {},
   "outputs": [],
   "source": [
    "import PyPDF2"
   ]
  },
  {
   "cell_type": "code",
   "execution_count": 7,
   "id": "58622640",
   "metadata": {},
   "outputs": [],
   "source": [
    "from PyPDF2 import PdfFileReader"
   ]
  },
  {
   "cell_type": "code",
   "execution_count": 15,
   "id": "363a6b58",
   "metadata": {},
   "outputs": [],
   "source": [
    "#creating a pdf file object\n",
    "pdf = open(\"sait.pdf\",\"rb\")"
   ]
  },
  {
   "cell_type": "code",
   "execution_count": 10,
   "id": "32a161f5",
   "metadata": {},
   "outputs": [],
   "source": [
    "# creating a pdf reader object\n",
    "pdfReader = PyPDF2.PdfFileReader(pdf)"
   ]
  },
  {
   "cell_type": "code",
   "execution_count": 11,
   "id": "d39e1e5b",
   "metadata": {},
   "outputs": [
    {
     "name": "stdout",
     "output_type": "stream",
     "text": [
      "2\n"
     ]
    }
   ],
   "source": [
    "# printing number of pages in pdf file\n",
    "print(pdfReader.numPages)"
   ]
  },
  {
   "cell_type": "code",
   "execution_count": 12,
   "id": "28b47b7a",
   "metadata": {},
   "outputs": [],
   "source": [
    "# creating a page object\n",
    "pageObj = pdfReader.getPage(0)"
   ]
  },
  {
   "cell_type": "code",
   "execution_count": 13,
   "id": "7e768b66",
   "metadata": {
    "collapsed": true
   },
   "outputs": [
    {
     "name": "stdout",
     "output_type": "stream",
     "text": [
      "Group Assignment\n",
      " \n",
      " \n",
      "174057C \n",
      "-\n",
      " \n",
      "Jayathilaka D.A.G.\n",
      " \n",
      "174071M \n",
      "-\n",
      " \n",
      "Karunathilaka H.P.S.U.\n",
      " \n",
      "174073V \n",
      "-\n",
      " \n",
      "Kaushalya K.B.H.\n",
      " \n",
      "174074B \n",
      "-\n",
      " \n",
      "Keerthiratne B.I.T.\n",
      " \n",
      "175072B \n",
      "-\n",
      " \n",
      "Rathnayake K. M. S\n",
      " \n",
      "175093N\n",
      " \n",
      "-\n",
      " \n",
      "Wickramasinghe T.G.I.U.\n",
      " \n",
      " \n",
      "Question1\n",
      " \n",
      "According to this scenario, none of the \n",
      "actions done by Karl or Bob can be justified. But when we \n",
      "think deeply about the two actions, we are of the opinion that cheating an innocent kindhearted \n",
      "person is more morally unethical.\n",
      " \n",
      "The person Bob decided to cheat on was an old kindhearted person who\n",
      " \n",
      "was known to help those \n",
      "who in need. This person might have continued helping people mostly because of the trust he has \n",
      "been building up all this time with the people he has been helping upon. But this action of Bob can \n",
      "ruin all that faithfulness he had t\n",
      "owards the society which might result him not helping anyone \n",
      "anymore. This will be big blow to the other helpless people in town who genuinely needed help in \n",
      "such scenarios. Moreover, generally stealing from a shop causes the losses to the shop owner who \n",
      "i\n",
      "s generally a richer person than a retired old man.\n",
      " \n",
      "So,\n",
      " \n",
      "\n",
      "investment.\n",
      " \n",
      "These\n",
      " \n",
      "are the basic reasons for us to choose one unethical action over the other. But \n",
      "once again it is important to mention that none of these actions are ethical and can be justified.\n",
      " \n",
      " \n",
      " \n",
      " \n",
      " \n",
      " \n",
      "\n"
     ]
    }
   ],
   "source": [
    "# extracting text from page\n",
    "print(pageObj.extractText())\n"
   ]
  },
  {
   "cell_type": "code",
   "execution_count": 14,
   "id": "6730dbf2",
   "metadata": {},
   "outputs": [],
   "source": [
    "# closing the pdf file object\n",
    "pdf.close()"
   ]
  },
  {
   "cell_type": "code",
   "execution_count": 16,
   "id": "8733b167",
   "metadata": {
    "collapsed": true
   },
   "outputs": [
    {
     "name": "stdout",
     "output_type": "stream",
     "text": [
      "Collecting pdfminer\n",
      "  Downloading pdfminer-20191125.tar.gz (4.2 MB)\n",
      "Collecting pycryptodome\n",
      "  Downloading pycryptodome-3.10.1-cp35-abi3-win_amd64.whl (1.6 MB)\n",
      "Building wheels for collected packages: pdfminer\n",
      "  Building wheel for pdfminer (setup.py): started\n",
      "  Building wheel for pdfminer (setup.py): still running...\n",
      "  Building wheel for pdfminer (setup.py): finished with status 'done'\n",
      "  Created wheel for pdfminer: filename=pdfminer-20191125-py3-none-any.whl size=6140089 sha256=08e79042b58fb3961b65cb0d3fde5f3373ed5e98e462500943640c3ecd2366a2\n",
      "  Stored in directory: c:\\users\\devindi\\appdata\\local\\pip\\cache\\wheels\\e3\\5e\\f4\\d210b46e9e4a28229ea070ed5b3efa92c3c29d1a7918dd4b97\n",
      "Successfully built pdfminer\n",
      "Installing collected packages: pycryptodome, pdfminer\n",
      "Successfully installed pdfminer-20191125 pycryptodome-3.10.1\n"
     ]
    },
    {
     "name": "stderr",
     "output_type": "stream",
     "text": [
      "WARNING: Value for scheme.headers does not match. Please report this to <https://github.com/pypa/pip/issues/9617>\n",
      "distutils: c:\\users\\devindi\\appdata\\local\\programs\\python\\python37\\Include\\UNKNOWN\n",
      "sysconfig: c:\\users\\devindi\\appdata\\local\\programs\\python\\python37\\Include\n",
      "WARNING: Additional context:\n",
      "user = False\n",
      "home = None\n",
      "root = None\n",
      "prefix = None\n",
      "WARNING: Value for scheme.headers does not match. Please report this to <https://github.com/pypa/pip/issues/9617>\n",
      "distutils: c:\\users\\devindi\\appdata\\local\\programs\\python\\python37\\Include\\UNKNOWN\n",
      "sysconfig: c:\\users\\devindi\\appdata\\local\\programs\\python\\python37\\Include\n",
      "WARNING: Additional context:\n",
      "user = False\n",
      "home = None\n",
      "root = None\n",
      "prefix = None\n"
     ]
    }
   ],
   "source": [
    "!pip install pdfminer"
   ]
  },
  {
   "cell_type": "code",
   "execution_count": 17,
   "id": "c73bc28a",
   "metadata": {},
   "outputs": [],
   "source": [
    "import io\n"
   ]
  },
  {
   "cell_type": "code",
   "execution_count": 18,
   "id": "72384c4c",
   "metadata": {},
   "outputs": [],
   "source": [
    "from pdfminer.pdfinterp import PDFResourceManager,PDFPageInterpreter"
   ]
  },
  {
   "cell_type": "code",
   "execution_count": 19,
   "id": "13cb26e9",
   "metadata": {},
   "outputs": [],
   "source": [
    "from pdfminer.converter import TextConverter"
   ]
  },
  {
   "cell_type": "code",
   "execution_count": 20,
   "id": "46fe1f27",
   "metadata": {},
   "outputs": [],
   "source": [
    "from pdfminer.layout import LAParams"
   ]
  },
  {
   "cell_type": "code",
   "execution_count": 22,
   "id": "57bed030",
   "metadata": {},
   "outputs": [],
   "source": [
    "from pdfminer.pdfpage import PDFPage"
   ]
  },
  {
   "cell_type": "code",
   "execution_count": 23,
   "id": "866749c4",
   "metadata": {
    "collapsed": true
   },
   "outputs": [
    {
     "name": "stderr",
     "output_type": "stream",
     "text": [
      "WARNING: Value for scheme.headers does not match. Please report this to <https://github.com/pypa/pip/issues/9617>\n",
      "distutils: c:\\users\\devindi\\appdata\\local\\programs\\python\\python37\\Include\\UNKNOWN\n",
      "sysconfig: c:\\users\\devindi\\appdata\\local\\programs\\python\\python37\\Include\n",
      "WARNING: Additional context:\n",
      "user = False\n",
      "home = None\n",
      "root = None\n",
      "prefix = None\n",
      "ERROR: Could not find a version that satisfies the requirement pythondocx (from versions: none)\n",
      "ERROR: No matching distribution found for pythondocx\n"
     ]
    }
   ],
   "source": [
    "! pip install pythondocx"
   ]
  },
  {
   "cell_type": "code",
   "execution_count": 24,
   "id": "d5dba36d",
   "metadata": {
    "collapsed": true
   },
   "outputs": [
    {
     "name": "stdout",
     "output_type": "stream",
     "text": [
      "Collecting python-docx"
     ]
    },
    {
     "name": "stderr",
     "output_type": "stream",
     "text": [
      "WARNING: Value for scheme.headers does not match. Please report this to <https://github.com/pypa/pip/issues/9617>\n",
      "distutils: c:\\users\\devindi\\appdata\\local\\programs\\python\\python37\\Include\\UNKNOWN\n",
      "sysconfig: c:\\users\\devindi\\appdata\\local\\programs\\python\\python37\\Include\n",
      "WARNING: Additional context:\n",
      "user = False\n",
      "home = None\n",
      "root = None\n",
      "prefix = None\n",
      "WARNING: Value for scheme.headers does not match. Please report this to <https://github.com/pypa/pip/issues/9617>\n",
      "distutils: c:\\users\\devindi\\appdata\\local\\programs\\python\\python37\\Include\\UNKNOWN\n",
      "sysconfig: c:\\users\\devindi\\appdata\\local\\programs\\python\\python37\\Include\n",
      "WARNING: Additional context:\n",
      "user = False\n",
      "home = None\n",
      "root = None\n",
      "prefix = None\n"
     ]
    },
    {
     "name": "stdout",
     "output_type": "stream",
     "text": [
      "\n",
      "  Downloading python-docx-0.8.10.tar.gz (5.5 MB)\n",
      "Collecting lxml>=2.3.2\n",
      "  Downloading lxml-4.6.3-cp37-cp37m-win_amd64.whl (3.5 MB)\n",
      "Building wheels for collected packages: python-docx\n",
      "  Building wheel for python-docx (setup.py): started\n",
      "  Building wheel for python-docx (setup.py): finished with status 'done'\n",
      "  Created wheel for python-docx: filename=python_docx-0.8.10-py3-none-any.whl size=184489 sha256=9ee8a7d133af4949d7c15faa7e5f8589e232beec2c6a07159411901cd4b13cc1\n",
      "  Stored in directory: c:\\users\\devindi\\appdata\\local\\pip\\cache\\wheels\\75\\c6\\69\\05491f32dc052cd70476b65f5bf7082a9b274045f6b001b821\n",
      "Successfully built python-docx\n",
      "Installing collected packages: lxml, python-docx\n",
      "Successfully installed lxml-4.6.3 python-docx-0.8.10\n"
     ]
    }
   ],
   "source": [
    "!pip install python-docx"
   ]
  },
  {
   "cell_type": "code",
   "execution_count": 25,
   "id": "4e7697b6",
   "metadata": {},
   "outputs": [],
   "source": [
    "import docx\n",
    "from docx import Document\n",
    "\n",
    "f = open('Test.docx', 'rb')\n"
   ]
  },
  {
   "cell_type": "code",
   "execution_count": 26,
   "id": "3d069511",
   "metadata": {},
   "outputs": [],
   "source": [
    "document = docx.Document(f)\n"
   ]
  },
  {
   "cell_type": "code",
   "execution_count": 27,
   "id": "b3ad48b3",
   "metadata": {},
   "outputs": [
    {
     "data": {
      "text/plain": [
       "<docx.document.Document at 0x29b8adcdf98>"
      ]
     },
     "execution_count": 27,
     "metadata": {},
     "output_type": "execute_result"
    }
   ],
   "source": [
    "document"
   ]
  },
  {
   "cell_type": "code",
   "execution_count": 28,
   "id": "7b9727fd",
   "metadata": {
    "collapsed": true
   },
   "outputs": [
    {
     "name": "stdout",
     "output_type": "stream",
     "text": [
      "Bdndhefjf vvvvvvvvvvvvvvvvvvvvvvvvvvvvvvvvvvvvvvvvvvvvvvvvvvvvvvvvvvvvvvvvvvvvvvvvvv2255 2444dfnjh vvvvvvvvvvvvvvvvvvvvvvvvvvvvvv   aafsewcssssssssssssssssssssssssssssssssssssssssssssssssssssssssssssssssssssssssssssssssssssssssssssssssssssssssssssssssssssssssssssssssssssss\n"
     ]
    }
   ],
   "source": [
    "docu=\"\"\n",
    "for para in document.paragraphs:\n",
    "    docu+=para.text\n",
    "    print(docu)"
   ]
  },
  {
   "cell_type": "code",
   "execution_count": 29,
   "id": "20098dcb",
   "metadata": {
    "collapsed": true
   },
   "outputs": [
    {
     "name": "stdout",
     "output_type": "stream",
     "text": [
      "Collecting bs4\n",
      "  Downloading bs4-0.0.1.tar.gz (1.1 kB)\n",
      "Collecting beautifulsoup4\n",
      "  Downloading beautifulsoup4-4.9.3-py3-none-any.whl (115 kB)\n",
      "Collecting soupsieve>1.2\n",
      "  Downloading soupsieve-2.2.1-py3-none-any.whl (33 kB)\n",
      "Building wheels for collected packages: bs4\n",
      "  Building wheel for bs4 (setup.py): started\n",
      "  Building wheel for bs4 (setup.py): finished with status 'done'\n",
      "  Created wheel for bs4: filename=bs4-0.0.1-py3-none-any.whl size=1273 sha256=f761180bf78383f827ca84b5755b069cfef877e3cacce3750bf71f0a3cbf2e2a\n",
      "  Stored in directory: c:\\users\\devindi\\appdata\\local\\pip\\cache\\wheels\\0a\\9e\\ba\\20e5bbc1afef3a491f0b3bb74d508f99403aabe76eda2167ca\n",
      "Successfully built bs4\n",
      "Installing collected packages: soupsieve, beautifulsoup4, bs4\n",
      "Successfully installed beautifulsoup4-4.9.3 bs4-0.0.1 soupsieve-2.2.1\n"
     ]
    },
    {
     "name": "stderr",
     "output_type": "stream",
     "text": [
      "WARNING: Value for scheme.headers does not match. Please report this to <https://github.com/pypa/pip/issues/9617>\n",
      "distutils: c:\\users\\devindi\\appdata\\local\\programs\\python\\python37\\Include\\UNKNOWN\n",
      "sysconfig: c:\\users\\devindi\\appdata\\local\\programs\\python\\python37\\Include\n",
      "WARNING: Additional context:\n",
      "user = False\n",
      "home = None\n",
      "root = None\n",
      "prefix = None\n",
      "WARNING: Value for scheme.headers does not match. Please report this to <https://github.com/pypa/pip/issues/9617>\n",
      "distutils: c:\\users\\devindi\\appdata\\local\\programs\\python\\python37\\Include\\UNKNOWN\n",
      "sysconfig: c:\\users\\devindi\\appdata\\local\\programs\\python\\python37\\Include\n",
      "WARNING: Additional context:\n",
      "user = False\n",
      "home = None\n",
      "root = None\n",
      "prefix = None\n"
     ]
    }
   ],
   "source": [
    "!pip install bs4"
   ]
  },
  {
   "cell_type": "code",
   "execution_count": 30,
   "id": "9490dc14",
   "metadata": {
    "collapsed": true
   },
   "outputs": [
    {
     "name": "stdout",
     "output_type": "stream",
     "text": [
      "Collecting textblob\n",
      "  Downloading textblob-0.15.3-py2.py3-none-any.whl (636 kB)\n",
      "Requirement already satisfied: nltk>=3.1 in c:\\users\\devindi\\appdata\\local\\programs\\python\\python37\\lib\\site-packages (from textblob) (3.6.2)\n",
      "Requirement already satisfied: tqdm in c:\\users\\devindi\\appdata\\local\\programs\\python\\python37\\lib\\site-packages (from nltk>=3.1->textblob) (4.60.0)\n",
      "Requirement already satisfied: click in c:\\users\\devindi\\appdata\\local\\programs\\python\\python37\\lib\\site-packages (from nltk>=3.1->textblob) (7.1.2)\n",
      "Requirement already satisfied: joblib in c:\\users\\devindi\\appdata\\local\\programs\\python\\python37\\lib\\site-packages (from nltk>=3.1->textblob) (1.0.1)"
     ]
    },
    {
     "name": "stderr",
     "output_type": "stream",
     "text": [
      "WARNING: Value for scheme.headers does not match. Please report this to <https://github.com/pypa/pip/issues/9617>\n",
      "distutils: c:\\users\\devindi\\appdata\\local\\programs\\python\\python37\\Include\\UNKNOWN\n",
      "sysconfig: c:\\users\\devindi\\appdata\\local\\programs\\python\\python37\\Include\n",
      "WARNING: Additional context:\n",
      "user = False\n",
      "home = None\n",
      "root = None\n",
      "prefix = None\n",
      "WARNING: Value for scheme.headers does not match. Please report this to <https://github.com/pypa/pip/issues/9617>\n",
      "distutils: c:\\users\\devindi\\appdata\\local\\programs\\python\\python37\\Include\\UNKNOWN\n",
      "sysconfig: c:\\users\\devindi\\appdata\\local\\programs\\python\\python37\\Include\n",
      "WARNING: Additional context:\n",
      "user = False\n",
      "home = None"
     ]
    },
    {
     "name": "stdout",
     "output_type": "stream",
     "text": [
      "\n",
      "Requirement already satisfied: regex in c:\\users\\devindi\\appdata\\local\\programs\\python\\python37\\lib\\site-packages (from nltk>=3.1->textblob) (2021.4.4)\n",
      "Installing collected packages: textblob\n",
      "Successfully installed textblob-0.15.3\n"
     ]
    },
    {
     "name": "stderr",
     "output_type": "stream",
     "text": [
      "\n",
      "root = None\n",
      "prefix = None\n"
     ]
    }
   ],
   "source": [
    "!pip install textblob"
   ]
  },
  {
   "cell_type": "code",
   "execution_count": null,
   "id": "309b7155",
   "metadata": {},
   "outputs": [],
   "source": []
  }
 ],
 "metadata": {
  "kernelspec": {
   "display_name": "Python 3",
   "language": "python",
   "name": "python3"
  },
  "language_info": {
   "codemirror_mode": {
    "name": "ipython",
    "version": 3
   },
   "file_extension": ".py",
   "mimetype": "text/x-python",
   "name": "python",
   "nbconvert_exporter": "python",
   "pygments_lexer": "ipython3",
   "version": "3.7.8"
  }
 },
 "nbformat": 4,
 "nbformat_minor": 5
}
