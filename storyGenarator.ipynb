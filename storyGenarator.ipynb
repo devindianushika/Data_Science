{
  "nbformat": 4,
  "nbformat_minor": 0,
  "metadata": {
    "colab": {
      "name": "storyGenarator.ipynb",
      "provenance": [],
      "collapsed_sections": [],
      "authorship_tag": "ABX9TyOIUemj0hi9sIRVZ+WB+SiQ",
      "include_colab_link": true
    },
    "kernelspec": {
      "name": "python3",
      "display_name": "Python 3"
    }
  },
  "cells": [
    {
      "cell_type": "markdown",
      "metadata": {
        "id": "view-in-github",
        "colab_type": "text"
      },
      "source": [
        "<a href=\"https://colab.research.google.com/github/devindianushika/data_analysis1/blob/master/storyGenarator.ipynb\" target=\"_parent\"><img src=\"https://colab.research.google.com/assets/colab-badge.svg\" alt=\"Open In Colab\"/></a>"
      ]
    },
    {
      "cell_type": "code",
      "metadata": {
        "id": "E-FbSlhOzMrG",
        "colab": {
          "base_uri": "https://localhost:8080/"
        },
        "outputId": "e5432b6c-75cb-449a-9a8a-aa6770195d09"
      },
      "source": [
        "story = 1\r\n",
        "while(story<4):\r\n",
        "  #questions that the program ask from user\r\n",
        "  noun = input (\"choose a noun:\")\r\n",
        "  p_noun = input(\"Choose a plural noun: \")\r\n",
        "  noun2 = input(\"Choose a noun: \")\r\n",
        "  place = input(\"Name a place: \")\r\n",
        "  adjective = input(\"Choose an adjective (Describing word): \")\r\n",
        "  noun3 = input(\"Choose a noun: \")\r\n",
        "\r\n",
        "  #display story\r\n",
        "  print (\"------------------------------------------\")\r\n",
        "  print (\"Be kind to your\",noun,\"- footed\", p_noun)\r\n",
        "  print (\"For a duck may be somebody's\", noun2,\",\")\r\n",
        "  print (\"Be kind to your\",p_noun,\"in\",place)\r\n",
        "  print (\"Where the weather is always\",adjective,\".\")\r\n",
        "  print ()\r\n",
        "  print (\"You may think that is this the\",noun3,\",\")\r\n",
        "  print (\"Well it is.\")\r\n",
        "  print (\"------------------------------------------\")\r\n",
        "\r\n",
        "  story = story + 1\r\n"
      ],
      "execution_count": 7,
      "outputs": [
        {
          "output_type": "stream",
          "text": [
            "choose a noun:mother\n",
            "Choose a plural noun: children\n",
            "Choose a noun: father\n",
            "Name a place: colombo\n",
            "Choose an adjective (Describing word): good\n",
            "Choose a noun: school\n",
            "------------------------------------------\n",
            "Be kind to your mother - footed children\n",
            "For a duck may be somebody's father ,\n",
            "Be kind to your children in colombo\n",
            "Where the weather is always good .\n",
            "\n",
            "You may think that is this the school ,\n",
            "Well it is.\n",
            "------------------------------------------\n",
            "choose a noun:president\n",
            "Choose a plural noun: people\n",
            "Choose a noun: paliment\n",
            "Name a place: gampaha\n",
            "Choose an adjective (Describing word): bad\n",
            "Choose a noun: man\n",
            "------------------------------------------\n",
            "Be kind to your president - footed people\n",
            "For a duck may be somebody's paliment ,\n",
            "Be kind to your people in gampaha\n",
            "Where the weather is always bad .\n",
            "\n",
            "You may think that is this the man ,\n",
            "Well it is.\n",
            "------------------------------------------\n",
            "choose a noun: fmgjgjrr\n",
            "Choose a plural noun: mmnhh\n",
            "Choose a noun: fffkjj\n",
            "Name a place: uuuuu\n",
            "Choose an adjective (Describing word): mmmmm\n",
            "Choose a noun: qawsde\n",
            "------------------------------------------\n",
            "Be kind to your  fmgjgjrr - footed mmnhh\n",
            "For a duck may be somebody's fffkjj ,\n",
            "Be kind to your mmnhh in uuuuu\n",
            "Where the weather is always mmmmm .\n",
            "\n",
            "You may think that is this the qawsde ,\n",
            "Well it is.\n",
            "------------------------------------------\n"
          ],
          "name": "stdout"
        }
      ]
    }
  ]
}