{
  "nbformat": 4,
  "nbformat_minor": 0,
  "metadata": {
    "colab": {
      "name": "dataCleaning.ipynb",
      "provenance": [],
      "collapsed_sections": [],
      "authorship_tag": "ABX9TyNAOyUdfU7ewZdtRQpLRcuy",
      "include_colab_link": true
    },
    "kernelspec": {
      "name": "python3",
      "display_name": "Python 3"
    }
  },
  "cells": [
    {
      "cell_type": "markdown",
      "metadata": {
        "id": "view-in-github",
        "colab_type": "text"
      },
      "source": [
        "<a href=\"https://colab.research.google.com/github/devindianushika/data_analysis1/blob/master/dataCleaning.ipynb\" target=\"_parent\"><img src=\"https://colab.research.google.com/assets/colab-badge.svg\" alt=\"Open In Colab\"/></a>"
      ]
    },
    {
      "cell_type": "markdown",
      "metadata": {
        "id": "j_U5xhRQDzMq"
      },
      "source": [
        "Data Cleaning"
      ]
    },
    {
      "cell_type": "code",
      "metadata": {
        "id": "4OqJWmvQD4di"
      },
      "source": [
        "import pandas as pd"
      ],
      "execution_count": 67,
      "outputs": []
    },
    {
      "cell_type": "markdown",
      "metadata": {
        "id": "f9UHx9FtETB8"
      },
      "source": [
        "load data file"
      ]
    },
    {
      "cell_type": "code",
      "metadata": {
        "id": "4pKnxcQPEVUv"
      },
      "source": [
        "df = pd.read_csv(\"test_with_col.csv\")"
      ],
      "execution_count": 68,
      "outputs": []
    },
    {
      "cell_type": "code",
      "metadata": {
        "id": "wt2voWr2Emdp",
        "colab": {
          "base_uri": "https://localhost:8080/",
          "height": 195
        },
        "outputId": "d33f5750-bc57-40cd-875b-474cb01227be"
      },
      "source": [
        "df.head()"
      ],
      "execution_count": 69,
      "outputs": [
        {
          "output_type": "execute_result",
          "data": {
            "text/html": [
              "<div>\n",
              "<style scoped>\n",
              "    .dataframe tbody tr th:only-of-type {\n",
              "        vertical-align: middle;\n",
              "    }\n",
              "\n",
              "    .dataframe tbody tr th {\n",
              "        vertical-align: top;\n",
              "    }\n",
              "\n",
              "    .dataframe thead th {\n",
              "        text-align: right;\n",
              "    }\n",
              "</style>\n",
              "<table border=\"1\" class=\"dataframe\">\n",
              "  <thead>\n",
              "    <tr style=\"text-align: right;\">\n",
              "      <th></th>\n",
              "      <th>name</th>\n",
              "      <th>age</th>\n",
              "      <th>index_num</th>\n",
              "      <th>title</th>\n",
              "    </tr>\n",
              "  </thead>\n",
              "  <tbody>\n",
              "    <tr>\n",
              "      <th>0</th>\n",
              "      <td>devindi</td>\n",
              "      <td>25</td>\n",
              "      <td>174057</td>\n",
              "      <td>gtghyyy</td>\n",
              "    </tr>\n",
              "    <tr>\n",
              "      <th>1</th>\n",
              "      <td>hashini</td>\n",
              "      <td>24</td>\n",
              "      <td>174073</td>\n",
              "      <td>fmgjukl</td>\n",
              "    </tr>\n",
              "    <tr>\n",
              "      <th>2</th>\n",
              "      <td>saduni</td>\n",
              "      <td>24</td>\n",
              "      <td>174071</td>\n",
              "      <td>kliopy</td>\n",
              "    </tr>\n",
              "    <tr>\n",
              "      <th>3</th>\n",
              "      <td>rajitha</td>\n",
              "      <td>23</td>\n",
              "      <td>174047</td>\n",
              "      <td>fgtyui</td>\n",
              "    </tr>\n",
              "    <tr>\n",
              "      <th>4</th>\n",
              "      <td>kamal</td>\n",
              "      <td>22</td>\n",
              "      <td>174051</td>\n",
              "      <td>hjukio</td>\n",
              "    </tr>\n",
              "  </tbody>\n",
              "</table>\n",
              "</div>"
            ],
            "text/plain": [
              "      name age index_num    title\n",
              "0  devindi  25    174057  gtghyyy\n",
              "1  hashini  24    174073  fmgjukl\n",
              "2   saduni  24    174071   kliopy\n",
              "3  rajitha  23    174047   fgtyui\n",
              "4    kamal  22    174051   hjukio"
            ]
          },
          "metadata": {
            "tags": []
          },
          "execution_count": 69
        }
      ]
    },
    {
      "cell_type": "code",
      "metadata": {
        "colab": {
          "base_uri": "https://localhost:8080/",
          "height": 195
        },
        "id": "n9Wf213tGMnn",
        "outputId": "6245f0ae-e9c6-4b2b-88ab-975ea78fa57a"
      },
      "source": [
        "df.tail()"
      ],
      "execution_count": 70,
      "outputs": [
        {
          "output_type": "execute_result",
          "data": {
            "text/html": [
              "<div>\n",
              "<style scoped>\n",
              "    .dataframe tbody tr th:only-of-type {\n",
              "        vertical-align: middle;\n",
              "    }\n",
              "\n",
              "    .dataframe tbody tr th {\n",
              "        vertical-align: top;\n",
              "    }\n",
              "\n",
              "    .dataframe thead th {\n",
              "        text-align: right;\n",
              "    }\n",
              "</style>\n",
              "<table border=\"1\" class=\"dataframe\">\n",
              "  <thead>\n",
              "    <tr style=\"text-align: right;\">\n",
              "      <th></th>\n",
              "      <th>name</th>\n",
              "      <th>age</th>\n",
              "      <th>index_num</th>\n",
              "      <th>title</th>\n",
              "    </tr>\n",
              "  </thead>\n",
              "  <tbody>\n",
              "    <tr>\n",
              "      <th>2</th>\n",
              "      <td>saduni</td>\n",
              "      <td>24</td>\n",
              "      <td>174071</td>\n",
              "      <td>kliopy</td>\n",
              "    </tr>\n",
              "    <tr>\n",
              "      <th>3</th>\n",
              "      <td>rajitha</td>\n",
              "      <td>23</td>\n",
              "      <td>174047</td>\n",
              "      <td>fgtyui</td>\n",
              "    </tr>\n",
              "    <tr>\n",
              "      <th>4</th>\n",
              "      <td>kamal</td>\n",
              "      <td>22</td>\n",
              "      <td>174051</td>\n",
              "      <td>hjukio</td>\n",
              "    </tr>\n",
              "    <tr>\n",
              "      <th>5</th>\n",
              "      <td>dasun</td>\n",
              "      <td>?</td>\n",
              "      <td>175421</td>\n",
              "      <td>?</td>\n",
              "    </tr>\n",
              "    <tr>\n",
              "      <th>6</th>\n",
              "      <td>john</td>\n",
              "      <td>45</td>\n",
              "      <td>?</td>\n",
              "      <td>?</td>\n",
              "    </tr>\n",
              "  </tbody>\n",
              "</table>\n",
              "</div>"
            ],
            "text/plain": [
              "      name age index_num   title\n",
              "2   saduni  24    174071  kliopy\n",
              "3  rajitha  23    174047  fgtyui\n",
              "4    kamal  22    174051  hjukio\n",
              "5    dasun   ?    175421       ?\n",
              "6     john  45         ?       ?"
            ]
          },
          "metadata": {
            "tags": []
          },
          "execution_count": 70
        }
      ]
    },
    {
      "cell_type": "markdown",
      "metadata": {
        "id": "FlzxF5UaHi4-"
      },
      "source": [
        "identify missing values\r\n"
      ]
    },
    {
      "cell_type": "code",
      "metadata": {
        "id": "ZrN4uEgdIqKR"
      },
      "source": [
        "import numpy as np\r\n",
        "#replace ? with Nan\r\n",
        "df.replace(\"?\", np.nan, inplace= True)"
      ],
      "execution_count": 71,
      "outputs": []
    },
    {
      "cell_type": "code",
      "metadata": {
        "colab": {
          "base_uri": "https://localhost:8080/",
          "height": 195
        },
        "id": "G50fjuaxKTVw",
        "outputId": "80f1228b-8292-4744-9b1f-c3aff41a4bfd"
      },
      "source": [
        "df.head()"
      ],
      "execution_count": 72,
      "outputs": [
        {
          "output_type": "execute_result",
          "data": {
            "text/html": [
              "<div>\n",
              "<style scoped>\n",
              "    .dataframe tbody tr th:only-of-type {\n",
              "        vertical-align: middle;\n",
              "    }\n",
              "\n",
              "    .dataframe tbody tr th {\n",
              "        vertical-align: top;\n",
              "    }\n",
              "\n",
              "    .dataframe thead th {\n",
              "        text-align: right;\n",
              "    }\n",
              "</style>\n",
              "<table border=\"1\" class=\"dataframe\">\n",
              "  <thead>\n",
              "    <tr style=\"text-align: right;\">\n",
              "      <th></th>\n",
              "      <th>name</th>\n",
              "      <th>age</th>\n",
              "      <th>index_num</th>\n",
              "      <th>title</th>\n",
              "    </tr>\n",
              "  </thead>\n",
              "  <tbody>\n",
              "    <tr>\n",
              "      <th>0</th>\n",
              "      <td>devindi</td>\n",
              "      <td>25</td>\n",
              "      <td>174057</td>\n",
              "      <td>gtghyyy</td>\n",
              "    </tr>\n",
              "    <tr>\n",
              "      <th>1</th>\n",
              "      <td>hashini</td>\n",
              "      <td>24</td>\n",
              "      <td>174073</td>\n",
              "      <td>fmgjukl</td>\n",
              "    </tr>\n",
              "    <tr>\n",
              "      <th>2</th>\n",
              "      <td>saduni</td>\n",
              "      <td>24</td>\n",
              "      <td>174071</td>\n",
              "      <td>kliopy</td>\n",
              "    </tr>\n",
              "    <tr>\n",
              "      <th>3</th>\n",
              "      <td>rajitha</td>\n",
              "      <td>23</td>\n",
              "      <td>174047</td>\n",
              "      <td>fgtyui</td>\n",
              "    </tr>\n",
              "    <tr>\n",
              "      <th>4</th>\n",
              "      <td>kamal</td>\n",
              "      <td>22</td>\n",
              "      <td>174051</td>\n",
              "      <td>hjukio</td>\n",
              "    </tr>\n",
              "  </tbody>\n",
              "</table>\n",
              "</div>"
            ],
            "text/plain": [
              "      name age index_num    title\n",
              "0  devindi  25    174057  gtghyyy\n",
              "1  hashini  24    174073  fmgjukl\n",
              "2   saduni  24    174071   kliopy\n",
              "3  rajitha  23    174047   fgtyui\n",
              "4    kamal  22    174051   hjukio"
            ]
          },
          "metadata": {
            "tags": []
          },
          "execution_count": 72
        }
      ]
    },
    {
      "cell_type": "code",
      "metadata": {
        "colab": {
          "base_uri": "https://localhost:8080/",
          "height": 195
        },
        "id": "KQkEik0FKWik",
        "outputId": "67c7626b-141e-4e04-e487-52812e8a4543"
      },
      "source": [
        "df.tail()"
      ],
      "execution_count": 73,
      "outputs": [
        {
          "output_type": "execute_result",
          "data": {
            "text/html": [
              "<div>\n",
              "<style scoped>\n",
              "    .dataframe tbody tr th:only-of-type {\n",
              "        vertical-align: middle;\n",
              "    }\n",
              "\n",
              "    .dataframe tbody tr th {\n",
              "        vertical-align: top;\n",
              "    }\n",
              "\n",
              "    .dataframe thead th {\n",
              "        text-align: right;\n",
              "    }\n",
              "</style>\n",
              "<table border=\"1\" class=\"dataframe\">\n",
              "  <thead>\n",
              "    <tr style=\"text-align: right;\">\n",
              "      <th></th>\n",
              "      <th>name</th>\n",
              "      <th>age</th>\n",
              "      <th>index_num</th>\n",
              "      <th>title</th>\n",
              "    </tr>\n",
              "  </thead>\n",
              "  <tbody>\n",
              "    <tr>\n",
              "      <th>2</th>\n",
              "      <td>saduni</td>\n",
              "      <td>24</td>\n",
              "      <td>174071</td>\n",
              "      <td>kliopy</td>\n",
              "    </tr>\n",
              "    <tr>\n",
              "      <th>3</th>\n",
              "      <td>rajitha</td>\n",
              "      <td>23</td>\n",
              "      <td>174047</td>\n",
              "      <td>fgtyui</td>\n",
              "    </tr>\n",
              "    <tr>\n",
              "      <th>4</th>\n",
              "      <td>kamal</td>\n",
              "      <td>22</td>\n",
              "      <td>174051</td>\n",
              "      <td>hjukio</td>\n",
              "    </tr>\n",
              "    <tr>\n",
              "      <th>5</th>\n",
              "      <td>dasun</td>\n",
              "      <td>NaN</td>\n",
              "      <td>175421</td>\n",
              "      <td>NaN</td>\n",
              "    </tr>\n",
              "    <tr>\n",
              "      <th>6</th>\n",
              "      <td>john</td>\n",
              "      <td>45</td>\n",
              "      <td>NaN</td>\n",
              "      <td>NaN</td>\n",
              "    </tr>\n",
              "  </tbody>\n",
              "</table>\n",
              "</div>"
            ],
            "text/plain": [
              "      name  age index_num   title\n",
              "2   saduni   24    174071  kliopy\n",
              "3  rajitha   23    174047  fgtyui\n",
              "4    kamal   22    174051  hjukio\n",
              "5    dasun  NaN    175421     NaN\n",
              "6     john   45       NaN     NaN"
            ]
          },
          "metadata": {
            "tags": []
          },
          "execution_count": 73
        }
      ]
    },
    {
      "cell_type": "code",
      "metadata": {
        "colab": {
          "base_uri": "https://localhost:8080/"
        },
        "id": "xA8GFWHiKZyj",
        "outputId": "cb22c744-b949-4f13-ed76-4a504435ef3c"
      },
      "source": [
        "df.isnull().sum()"
      ],
      "execution_count": 74,
      "outputs": [
        {
          "output_type": "execute_result",
          "data": {
            "text/plain": [
              "name         0\n",
              "age          1\n",
              "index_num    1\n",
              "title        2\n",
              "dtype: int64"
            ]
          },
          "metadata": {
            "tags": []
          },
          "execution_count": 74
        }
      ]
    },
    {
      "cell_type": "code",
      "metadata": {
        "colab": {
          "base_uri": "https://localhost:8080/"
        },
        "id": "bM2oSv4GK-Z2",
        "outputId": "0df29907-9f51-4566-a14f-97f5615a4b8e"
      },
      "source": [
        "df.dtypes"
      ],
      "execution_count": 75,
      "outputs": [
        {
          "output_type": "execute_result",
          "data": {
            "text/plain": [
              "name         object\n",
              "age          object\n",
              "index_num    object\n",
              "title        object\n",
              "dtype: object"
            ]
          },
          "metadata": {
            "tags": []
          },
          "execution_count": 75
        }
      ]
    },
    {
      "cell_type": "code",
      "metadata": {
        "id": "P4Yv6VKcG85B"
      },
      "source": [
        "#remove Nan values from the table\r\n",
        "#df = df.dropna(subset=['age'])"
      ],
      "execution_count": 18,
      "outputs": []
    },
    {
      "cell_type": "code",
      "metadata": {
        "id": "_MiUCd2uLzKh"
      },
      "source": [
        "#convert age data type to integer\r\n",
        "#get average of age\r\n",
        "ave_age = df[\"age\"].astype(\"float\").mean()"
      ],
      "execution_count": 76,
      "outputs": []
    },
    {
      "cell_type": "code",
      "metadata": {
        "colab": {
          "base_uri": "https://localhost:8080/"
        },
        "id": "E0qAz3QNFR95",
        "outputId": "8a6aac4b-0e46-49b4-9568-209338b5a768"
      },
      "source": [
        "print(\"avearge of age\",ave_age)"
      ],
      "execution_count": 77,
      "outputs": [
        {
          "output_type": "stream",
          "text": [
            "avearge of age 27.166666666666668\n"
          ],
          "name": "stdout"
        }
      ]
    },
    {
      "cell_type": "markdown",
      "metadata": {
        "id": "JmmUYgNAGIOl"
      },
      "source": [
        ""
      ]
    },
    {
      "cell_type": "code",
      "metadata": {
        "id": "nalCfeUcHqX_"
      },
      "source": [
        "#replace Nan values from mean value\r\n",
        "df[\"age\"].replace(np.nan, ave_age, inplace= True)"
      ],
      "execution_count": 78,
      "outputs": []
    },
    {
      "cell_type": "code",
      "metadata": {
        "colab": {
          "base_uri": "https://localhost:8080/",
          "height": 195
        },
        "id": "Ul3UFzjxKN-1",
        "outputId": "d31446be-85ce-46fc-9862-29a1aa659bc2"
      },
      "source": [
        "df.tail()"
      ],
      "execution_count": 39,
      "outputs": [
        {
          "output_type": "execute_result",
          "data": {
            "text/html": [
              "<div>\n",
              "<style scoped>\n",
              "    .dataframe tbody tr th:only-of-type {\n",
              "        vertical-align: middle;\n",
              "    }\n",
              "\n",
              "    .dataframe tbody tr th {\n",
              "        vertical-align: top;\n",
              "    }\n",
              "\n",
              "    .dataframe thead th {\n",
              "        text-align: right;\n",
              "    }\n",
              "</style>\n",
              "<table border=\"1\" class=\"dataframe\">\n",
              "  <thead>\n",
              "    <tr style=\"text-align: right;\">\n",
              "      <th></th>\n",
              "      <th>name</th>\n",
              "      <th>age</th>\n",
              "      <th>index_num</th>\n",
              "      <th>title</th>\n",
              "    </tr>\n",
              "  </thead>\n",
              "  <tbody>\n",
              "    <tr>\n",
              "      <th>2</th>\n",
              "      <td>saduni</td>\n",
              "      <td>24</td>\n",
              "      <td>174071</td>\n",
              "      <td>kliopy</td>\n",
              "    </tr>\n",
              "    <tr>\n",
              "      <th>3</th>\n",
              "      <td>rajitha</td>\n",
              "      <td>23</td>\n",
              "      <td>174047</td>\n",
              "      <td>fgtyui</td>\n",
              "    </tr>\n",
              "    <tr>\n",
              "      <th>4</th>\n",
              "      <td>kamal</td>\n",
              "      <td>22</td>\n",
              "      <td>174051</td>\n",
              "      <td>hjukio</td>\n",
              "    </tr>\n",
              "    <tr>\n",
              "      <th>5</th>\n",
              "      <td>dasun</td>\n",
              "      <td>27.1667</td>\n",
              "      <td>175421</td>\n",
              "      <td>NaN</td>\n",
              "    </tr>\n",
              "    <tr>\n",
              "      <th>6</th>\n",
              "      <td>john</td>\n",
              "      <td>45</td>\n",
              "      <td>NaN</td>\n",
              "      <td>NaN</td>\n",
              "    </tr>\n",
              "  </tbody>\n",
              "</table>\n",
              "</div>"
            ],
            "text/plain": [
              "      name      age index_num   title\n",
              "2   saduni       24    174071  kliopy\n",
              "3  rajitha       23    174047  fgtyui\n",
              "4    kamal       22    174051  hjukio\n",
              "5    dasun  27.1667    175421     NaN\n",
              "6     john       45       NaN     NaN"
            ]
          },
          "metadata": {
            "tags": []
          },
          "execution_count": 39
        }
      ]
    },
    {
      "cell_type": "code",
      "metadata": {
        "id": "f8u0dYqSKmI4"
      },
      "source": [
        "#same for index and title column\r\n",
        "df[\"title\"].replace(np.nan,\"test\",inplace = True)"
      ],
      "execution_count": 79,
      "outputs": []
    },
    {
      "cell_type": "code",
      "metadata": {
        "id": "OuABO3MbM5Z_"
      },
      "source": [
        "#remove Nan values from the indexnum column\r\n",
        "#axes=0 mean drop rawa which have nan valuea\r\n",
        "#axes=1 mean drop whole column\r\n",
        "df.dropna(subset=['index_num'],axis=0,inplace=True)"
      ],
      "execution_count": 80,
      "outputs": []
    },
    {
      "cell_type": "code",
      "metadata": {
        "id": "xQgBB_gONjfe"
      },
      "source": [
        "#df.reset_index(drop=True,inplace =True)\r\n",
        "df.reset_index(drop=True, inplace=True)\r\n"
      ],
      "execution_count": 81,
      "outputs": []
    },
    {
      "cell_type": "code",
      "metadata": {
        "colab": {
          "base_uri": "https://localhost:8080/",
          "height": 195
        },
        "id": "NYyRvTKuUnwU",
        "outputId": "95fb1219-11f2-4749-875f-e41c16276688"
      },
      "source": [
        "df.head()"
      ],
      "execution_count": 82,
      "outputs": [
        {
          "output_type": "execute_result",
          "data": {
            "text/html": [
              "<div>\n",
              "<style scoped>\n",
              "    .dataframe tbody tr th:only-of-type {\n",
              "        vertical-align: middle;\n",
              "    }\n",
              "\n",
              "    .dataframe tbody tr th {\n",
              "        vertical-align: top;\n",
              "    }\n",
              "\n",
              "    .dataframe thead th {\n",
              "        text-align: right;\n",
              "    }\n",
              "</style>\n",
              "<table border=\"1\" class=\"dataframe\">\n",
              "  <thead>\n",
              "    <tr style=\"text-align: right;\">\n",
              "      <th></th>\n",
              "      <th>name</th>\n",
              "      <th>age</th>\n",
              "      <th>index_num</th>\n",
              "      <th>title</th>\n",
              "    </tr>\n",
              "  </thead>\n",
              "  <tbody>\n",
              "    <tr>\n",
              "      <th>0</th>\n",
              "      <td>devindi</td>\n",
              "      <td>25</td>\n",
              "      <td>174057</td>\n",
              "      <td>gtghyyy</td>\n",
              "    </tr>\n",
              "    <tr>\n",
              "      <th>1</th>\n",
              "      <td>hashini</td>\n",
              "      <td>24</td>\n",
              "      <td>174073</td>\n",
              "      <td>fmgjukl</td>\n",
              "    </tr>\n",
              "    <tr>\n",
              "      <th>2</th>\n",
              "      <td>saduni</td>\n",
              "      <td>24</td>\n",
              "      <td>174071</td>\n",
              "      <td>kliopy</td>\n",
              "    </tr>\n",
              "    <tr>\n",
              "      <th>3</th>\n",
              "      <td>rajitha</td>\n",
              "      <td>23</td>\n",
              "      <td>174047</td>\n",
              "      <td>fgtyui</td>\n",
              "    </tr>\n",
              "    <tr>\n",
              "      <th>4</th>\n",
              "      <td>kamal</td>\n",
              "      <td>22</td>\n",
              "      <td>174051</td>\n",
              "      <td>hjukio</td>\n",
              "    </tr>\n",
              "  </tbody>\n",
              "</table>\n",
              "</div>"
            ],
            "text/plain": [
              "      name age index_num    title\n",
              "0  devindi  25    174057  gtghyyy\n",
              "1  hashini  24    174073  fmgjukl\n",
              "2   saduni  24    174071   kliopy\n",
              "3  rajitha  23    174047   fgtyui\n",
              "4    kamal  22    174051   hjukio"
            ]
          },
          "metadata": {
            "tags": []
          },
          "execution_count": 82
        }
      ]
    },
    {
      "cell_type": "code",
      "metadata": {
        "colab": {
          "base_uri": "https://localhost:8080/",
          "height": 195
        },
        "id": "Uj2Y7qJ9Vbse",
        "outputId": "b2597ae5-ada6-4681-e995-8a98fc66c236"
      },
      "source": [
        "df.tail()"
      ],
      "execution_count": 83,
      "outputs": [
        {
          "output_type": "execute_result",
          "data": {
            "text/html": [
              "<div>\n",
              "<style scoped>\n",
              "    .dataframe tbody tr th:only-of-type {\n",
              "        vertical-align: middle;\n",
              "    }\n",
              "\n",
              "    .dataframe tbody tr th {\n",
              "        vertical-align: top;\n",
              "    }\n",
              "\n",
              "    .dataframe thead th {\n",
              "        text-align: right;\n",
              "    }\n",
              "</style>\n",
              "<table border=\"1\" class=\"dataframe\">\n",
              "  <thead>\n",
              "    <tr style=\"text-align: right;\">\n",
              "      <th></th>\n",
              "      <th>name</th>\n",
              "      <th>age</th>\n",
              "      <th>index_num</th>\n",
              "      <th>title</th>\n",
              "    </tr>\n",
              "  </thead>\n",
              "  <tbody>\n",
              "    <tr>\n",
              "      <th>1</th>\n",
              "      <td>hashini</td>\n",
              "      <td>24</td>\n",
              "      <td>174073</td>\n",
              "      <td>fmgjukl</td>\n",
              "    </tr>\n",
              "    <tr>\n",
              "      <th>2</th>\n",
              "      <td>saduni</td>\n",
              "      <td>24</td>\n",
              "      <td>174071</td>\n",
              "      <td>kliopy</td>\n",
              "    </tr>\n",
              "    <tr>\n",
              "      <th>3</th>\n",
              "      <td>rajitha</td>\n",
              "      <td>23</td>\n",
              "      <td>174047</td>\n",
              "      <td>fgtyui</td>\n",
              "    </tr>\n",
              "    <tr>\n",
              "      <th>4</th>\n",
              "      <td>kamal</td>\n",
              "      <td>22</td>\n",
              "      <td>174051</td>\n",
              "      <td>hjukio</td>\n",
              "    </tr>\n",
              "    <tr>\n",
              "      <th>5</th>\n",
              "      <td>dasun</td>\n",
              "      <td>27.1667</td>\n",
              "      <td>175421</td>\n",
              "      <td>test</td>\n",
              "    </tr>\n",
              "  </tbody>\n",
              "</table>\n",
              "</div>"
            ],
            "text/plain": [
              "      name      age index_num    title\n",
              "1  hashini       24    174073  fmgjukl\n",
              "2   saduni       24    174071   kliopy\n",
              "3  rajitha       23    174047   fgtyui\n",
              "4    kamal       22    174051   hjukio\n",
              "5    dasun  27.1667    175421     test"
            ]
          },
          "metadata": {
            "tags": []
          },
          "execution_count": 83
        }
      ]
    },
    {
      "cell_type": "code",
      "metadata": {
        "colab": {
          "base_uri": "https://localhost:8080/"
        },
        "id": "dJEUMzvPVe-v",
        "outputId": "8b0e87d7-6ada-4d77-8b40-6a346d7c4a97"
      },
      "source": [
        "df.dtypes\r\n"
      ],
      "execution_count": 84,
      "outputs": [
        {
          "output_type": "execute_result",
          "data": {
            "text/plain": [
              "name         object\n",
              "age          object\n",
              "index_num    object\n",
              "title        object\n",
              "dtype: object"
            ]
          },
          "metadata": {
            "tags": []
          },
          "execution_count": 84
        }
      ]
    },
    {
      "cell_type": "code",
      "metadata": {
        "id": "bEfoDe1JV-AH"
      },
      "source": [
        "df[[\"age\",\"index_num\"]] = df[[\"age\",\"index_num\"]].astype(\"int\")"
      ],
      "execution_count": 86,
      "outputs": []
    },
    {
      "cell_type": "code",
      "metadata": {
        "colab": {
          "base_uri": "https://localhost:8080/"
        },
        "id": "IB0E_GXKWzFj",
        "outputId": "d734dab0-bb51-4c71-ab82-59ae674cca55"
      },
      "source": [
        "df.dtypes"
      ],
      "execution_count": 87,
      "outputs": [
        {
          "output_type": "execute_result",
          "data": {
            "text/plain": [
              "name         object\n",
              "age           int64\n",
              "index_num     int64\n",
              "title        object\n",
              "dtype: object"
            ]
          },
          "metadata": {
            "tags": []
          },
          "execution_count": 87
        }
      ]
    },
    {
      "cell_type": "code",
      "metadata": {
        "colab": {
          "base_uri": "https://localhost:8080/",
          "height": 195
        },
        "id": "rEwfL0lPXMYn",
        "outputId": "27c4930d-57d1-45a1-9172-cc40ca10e64c"
      },
      "source": [
        "df.head()"
      ],
      "execution_count": 88,
      "outputs": [
        {
          "output_type": "execute_result",
          "data": {
            "text/html": [
              "<div>\n",
              "<style scoped>\n",
              "    .dataframe tbody tr th:only-of-type {\n",
              "        vertical-align: middle;\n",
              "    }\n",
              "\n",
              "    .dataframe tbody tr th {\n",
              "        vertical-align: top;\n",
              "    }\n",
              "\n",
              "    .dataframe thead th {\n",
              "        text-align: right;\n",
              "    }\n",
              "</style>\n",
              "<table border=\"1\" class=\"dataframe\">\n",
              "  <thead>\n",
              "    <tr style=\"text-align: right;\">\n",
              "      <th></th>\n",
              "      <th>name</th>\n",
              "      <th>age</th>\n",
              "      <th>index_num</th>\n",
              "      <th>title</th>\n",
              "    </tr>\n",
              "  </thead>\n",
              "  <tbody>\n",
              "    <tr>\n",
              "      <th>0</th>\n",
              "      <td>devindi</td>\n",
              "      <td>25</td>\n",
              "      <td>174057</td>\n",
              "      <td>gtghyyy</td>\n",
              "    </tr>\n",
              "    <tr>\n",
              "      <th>1</th>\n",
              "      <td>hashini</td>\n",
              "      <td>24</td>\n",
              "      <td>174073</td>\n",
              "      <td>fmgjukl</td>\n",
              "    </tr>\n",
              "    <tr>\n",
              "      <th>2</th>\n",
              "      <td>saduni</td>\n",
              "      <td>24</td>\n",
              "      <td>174071</td>\n",
              "      <td>kliopy</td>\n",
              "    </tr>\n",
              "    <tr>\n",
              "      <th>3</th>\n",
              "      <td>rajitha</td>\n",
              "      <td>23</td>\n",
              "      <td>174047</td>\n",
              "      <td>fgtyui</td>\n",
              "    </tr>\n",
              "    <tr>\n",
              "      <th>4</th>\n",
              "      <td>kamal</td>\n",
              "      <td>22</td>\n",
              "      <td>174051</td>\n",
              "      <td>hjukio</td>\n",
              "    </tr>\n",
              "  </tbody>\n",
              "</table>\n",
              "</div>"
            ],
            "text/plain": [
              "      name  age  index_num    title\n",
              "0  devindi   25     174057  gtghyyy\n",
              "1  hashini   24     174073  fmgjukl\n",
              "2   saduni   24     174071   kliopy\n",
              "3  rajitha   23     174047   fgtyui\n",
              "4    kamal   22     174051   hjukio"
            ]
          },
          "metadata": {
            "tags": []
          },
          "execution_count": 88
        }
      ]
    },
    {
      "cell_type": "code",
      "metadata": {
        "colab": {
          "base_uri": "https://localhost:8080/",
          "height": 195
        },
        "id": "AhHOJQPlXPvZ",
        "outputId": "4a85b517-c9f9-4df1-9767-40370be3355a"
      },
      "source": [
        "df.tail()"
      ],
      "execution_count": 89,
      "outputs": [
        {
          "output_type": "execute_result",
          "data": {
            "text/html": [
              "<div>\n",
              "<style scoped>\n",
              "    .dataframe tbody tr th:only-of-type {\n",
              "        vertical-align: middle;\n",
              "    }\n",
              "\n",
              "    .dataframe tbody tr th {\n",
              "        vertical-align: top;\n",
              "    }\n",
              "\n",
              "    .dataframe thead th {\n",
              "        text-align: right;\n",
              "    }\n",
              "</style>\n",
              "<table border=\"1\" class=\"dataframe\">\n",
              "  <thead>\n",
              "    <tr style=\"text-align: right;\">\n",
              "      <th></th>\n",
              "      <th>name</th>\n",
              "      <th>age</th>\n",
              "      <th>index_num</th>\n",
              "      <th>title</th>\n",
              "    </tr>\n",
              "  </thead>\n",
              "  <tbody>\n",
              "    <tr>\n",
              "      <th>1</th>\n",
              "      <td>hashini</td>\n",
              "      <td>24</td>\n",
              "      <td>174073</td>\n",
              "      <td>fmgjukl</td>\n",
              "    </tr>\n",
              "    <tr>\n",
              "      <th>2</th>\n",
              "      <td>saduni</td>\n",
              "      <td>24</td>\n",
              "      <td>174071</td>\n",
              "      <td>kliopy</td>\n",
              "    </tr>\n",
              "    <tr>\n",
              "      <th>3</th>\n",
              "      <td>rajitha</td>\n",
              "      <td>23</td>\n",
              "      <td>174047</td>\n",
              "      <td>fgtyui</td>\n",
              "    </tr>\n",
              "    <tr>\n",
              "      <th>4</th>\n",
              "      <td>kamal</td>\n",
              "      <td>22</td>\n",
              "      <td>174051</td>\n",
              "      <td>hjukio</td>\n",
              "    </tr>\n",
              "    <tr>\n",
              "      <th>5</th>\n",
              "      <td>dasun</td>\n",
              "      <td>27</td>\n",
              "      <td>175421</td>\n",
              "      <td>test</td>\n",
              "    </tr>\n",
              "  </tbody>\n",
              "</table>\n",
              "</div>"
            ],
            "text/plain": [
              "      name  age  index_num    title\n",
              "1  hashini   24     174073  fmgjukl\n",
              "2   saduni   24     174071   kliopy\n",
              "3  rajitha   23     174047   fgtyui\n",
              "4    kamal   22     174051   hjukio\n",
              "5    dasun   27     175421     test"
            ]
          },
          "metadata": {
            "tags": []
          },
          "execution_count": 89
        }
      ]
    },
    {
      "cell_type": "code",
      "metadata": {
        "id": "LwlM1lQ6XTiV"
      },
      "source": [
        ""
      ],
      "execution_count": null,
      "outputs": []
    }
  ]
}